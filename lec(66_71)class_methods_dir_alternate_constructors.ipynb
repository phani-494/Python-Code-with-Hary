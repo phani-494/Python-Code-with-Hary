{
 "cells": [
  {
   "cell_type": "markdown",
   "id": "316fa254",
   "metadata": {},
   "source": [
    "# lec 66\n",
    "## Instance variables vs class variables"
   ]
  },
  {
   "cell_type": "code",
   "execution_count": 1,
   "id": "cb425020",
   "metadata": {},
   "outputs": [],
   "source": [
    "# class variables will be shared by all the instances of the class\n",
    "# suppose we will make a class car. we know that for every car only 4 wheels are present. \n",
    "# so we will declare it as a class variables because for every object we no need to give the wheels as different number\n"
   ]
  },
  {
   "cell_type": "markdown",
   "id": "e673183e",
   "metadata": {},
   "source": [
    "1. In python, variables can be defined as class level or at the instance level.\n",
    "2. Class variables are defined at the class level and shared among all instances of the class.\n",
    "3. They are defined outside of any method and are usually used to store information that is common to all instances of the class.\n"
   ]
  },
  {
   "cell_type": "code",
   "execution_count": 2,
   "id": "579f3772",
   "metadata": {},
   "outputs": [],
   "source": [
    "class Employee:\n",
    "    def __init__(self,name,salary):\n",
    "        self.name=name\n",
    "        self.salary=salary\n",
    "    def showdetails(self):\n",
    "        print(f\"The salary of {self.name} is {self.salary}\")\n",
    "emp1=Employee(\"Indra\",900000)"
   ]
  },
  {
   "cell_type": "code",
   "execution_count": 3,
   "id": "3015e2ac",
   "metadata": {},
   "outputs": [
    {
     "data": {
      "text/plain": [
       "'Indra'"
      ]
     },
     "execution_count": 3,
     "metadata": {},
     "output_type": "execute_result"
    }
   ],
   "source": [
    "emp1.name"
   ]
  },
  {
   "cell_type": "code",
   "execution_count": 4,
   "id": "426e11be",
   "metadata": {},
   "outputs": [],
   "source": [
    "emp2=Employee(\"Raja\",890000)"
   ]
  },
  {
   "cell_type": "code",
   "execution_count": 5,
   "id": "d3ad3492",
   "metadata": {},
   "outputs": [
    {
     "data": {
      "text/plain": [
       "890000"
      ]
     },
     "execution_count": 5,
     "metadata": {},
     "output_type": "execute_result"
    }
   ],
   "source": [
    "emp2.salary"
   ]
  },
  {
   "cell_type": "code",
   "execution_count": 6,
   "id": "b8701494",
   "metadata": {},
   "outputs": [],
   "source": [
    "# but we know that both persons belong to the same company\n",
    "# instead of giving it every time , we can treat it as a class variable"
   ]
  },
  {
   "cell_type": "code",
   "execution_count": 18,
   "id": "84e565ce",
   "metadata": {},
   "outputs": [],
   "source": [
    "class Employee:\n",
    "    company=\"LTTS\" # class variables\n",
    "    def __init__(self,name,salary):\n",
    "        self.name=name # instance variables\n",
    "        self.salary=salary\n",
    "    def showdetails(self):\n",
    "        print(f\"The salary of {self.name} in {self.company} is {self.salary}\")\n",
    "emp1=Employee(\"Indra\",900000)\n",
    "emp2=Employee(\"Raja\",890000)"
   ]
  },
  {
   "cell_type": "code",
   "execution_count": 19,
   "id": "4c2bd8f2",
   "metadata": {},
   "outputs": [
    {
     "data": {
      "text/plain": [
       "'LTTS'"
      ]
     },
     "execution_count": 19,
     "metadata": {},
     "output_type": "execute_result"
    }
   ],
   "source": [
    "emp1.company"
   ]
  },
  {
   "cell_type": "code",
   "execution_count": 20,
   "id": "fef2e1b8",
   "metadata": {},
   "outputs": [
    {
     "data": {
      "text/plain": [
       "'LTTS'"
      ]
     },
     "execution_count": 20,
     "metadata": {},
     "output_type": "execute_result"
    }
   ],
   "source": [
    "emp2.company # the objects whatever created all are sharing the company in them"
   ]
  },
  {
   "cell_type": "code",
   "execution_count": 21,
   "id": "754cba9b",
   "metadata": {},
   "outputs": [
    {
     "name": "stdout",
     "output_type": "stream",
     "text": [
      "The salary of Raja in LTTS is 890000\n"
     ]
    }
   ],
   "source": [
    "emp2.showdetails() # converted as below line"
   ]
  },
  {
   "cell_type": "code",
   "execution_count": 22,
   "id": "847386bb",
   "metadata": {},
   "outputs": [
    {
     "name": "stdout",
     "output_type": "stream",
     "text": [
      "The salary of Indra in LTTS is 900000\n"
     ]
    }
   ],
   "source": [
    "Employee.showdetails(emp1) # emp1.showdetails() is running like this behind the scenes . so self is getting the object name "
   ]
  },
  {
   "cell_type": "code",
   "execution_count": 23,
   "id": "72f65906",
   "metadata": {},
   "outputs": [],
   "source": [
    "emp1.company=\"Google\""
   ]
  },
  {
   "cell_type": "code",
   "execution_count": 24,
   "id": "c345b4a9",
   "metadata": {},
   "outputs": [
    {
     "data": {
      "text/plain": [
       "'Google'"
      ]
     },
     "execution_count": 24,
     "metadata": {},
     "output_type": "execute_result"
    }
   ],
   "source": [
    "emp1.company # only the company name of emp1 is changing not the class company"
   ]
  },
  {
   "cell_type": "code",
   "execution_count": 25,
   "id": "98e3fec3",
   "metadata": {},
   "outputs": [
    {
     "data": {
      "text/plain": [
       "'LTTS'"
      ]
     },
     "execution_count": 25,
     "metadata": {},
     "output_type": "execute_result"
    }
   ],
   "source": [
    "Employee.company"
   ]
  },
  {
   "cell_type": "code",
   "execution_count": 26,
   "id": "2f7ad80b",
   "metadata": {},
   "outputs": [],
   "source": [
    "# to chnage the name of class variables use class name\n",
    "Employee.company=\"Apple\" # we are changing the name of all employees company to Apple "
   ]
  },
  {
   "cell_type": "code",
   "execution_count": 27,
   "id": "d96d99df",
   "metadata": {},
   "outputs": [
    {
     "data": {
      "text/plain": [
       "'Google'"
      ]
     },
     "execution_count": 27,
     "metadata": {},
     "output_type": "execute_result"
    }
   ],
   "source": [
    "emp1.company"
   ]
  },
  {
   "cell_type": "code",
   "execution_count": 28,
   "id": "d78e44e8",
   "metadata": {},
   "outputs": [
    {
     "data": {
      "text/plain": [
       "'Apple'"
      ]
     },
     "execution_count": 28,
     "metadata": {},
     "output_type": "execute_result"
    }
   ],
   "source": [
    "emp2.company"
   ]
  },
  {
   "cell_type": "code",
   "execution_count": 30,
   "id": "d614334a",
   "metadata": {},
   "outputs": [],
   "source": [
    "emp3=Employee(\"lucky\",678909)"
   ]
  },
  {
   "cell_type": "code",
   "execution_count": 31,
   "id": "bea8e686",
   "metadata": {},
   "outputs": [
    {
     "data": {
      "text/plain": [
       "'Apple'"
      ]
     },
     "execution_count": 31,
     "metadata": {},
     "output_type": "execute_result"
    }
   ],
   "source": [
    "emp3.company"
   ]
  },
  {
   "cell_type": "code",
   "execution_count": 32,
   "id": "f6c5bbbb",
   "metadata": {},
   "outputs": [],
   "source": [
    "# First the  varibales will be checked whether the variable is present or not at the instance level\n",
    "# if not present then the class level will be checked\n",
    "# since for emp1 at the instance level, the company is present. so it will be printed."
   ]
  },
  {
   "cell_type": "code",
   "execution_count": 33,
   "id": "c5268266",
   "metadata": {},
   "outputs": [],
   "source": [
    "# suppose we want to count the number of employees "
   ]
  },
  {
   "cell_type": "code",
   "execution_count": 34,
   "id": "c1b708c8",
   "metadata": {},
   "outputs": [],
   "source": [
    "class Employee:\n",
    "    num=0\n",
    "    company=\"LTTS\" # class variables\n",
    "    def __init__(self,name,salary):\n",
    "        self.name=name # instance variables\n",
    "        self.salary=salary\n",
    "        Employee.num+=1\n",
    "    def showdetails(self):\n",
    "        print(f\"The salary of {self.name} in {self.company} is {self.salary}\")\n",
    "emp1=Employee(\"Indra\",900000)\n",
    "emp2=Employee(\"Raja\",890000)"
   ]
  },
  {
   "cell_type": "code",
   "execution_count": 36,
   "id": "6ace0d46",
   "metadata": {},
   "outputs": [
    {
     "data": {
      "text/plain": [
       "2"
      ]
     },
     "execution_count": 36,
     "metadata": {},
     "output_type": "execute_result"
    }
   ],
   "source": [
    "Employee.num # it indicates that number of employees is 2 "
   ]
  },
  {
   "cell_type": "markdown",
   "id": "c7dc7f9a",
   "metadata": {},
   "source": [
    "# lec 69\n",
    "## class methods"
   ]
  },
  {
   "cell_type": "markdown",
   "id": "6dd53e7c",
   "metadata": {},
   "source": [
    "1. A class method is a type of method that is bound to the class and not the instance of the class.\n",
    "2. In other words, it operates on the class as a whole,rather than on a specific instance of the class.\n",
    "3. Class methods are defined using the @classmethod decorator followed by a function definition\n",
    "4. The first argument here is always the cls, which represents the class itself.\n"
   ]
  },
  {
   "cell_type": "code",
   "execution_count": 44,
   "id": "31af2fd1",
   "metadata": {},
   "outputs": [],
   "source": [
    "class Employee:\n",
    "    company=\"LTTS\" # class variables\n",
    "    def __init__(self,name,salary):\n",
    "        self.name=name # instance variables\n",
    "        self.salary=salary\n",
    "    def showdetails(self):\n",
    "        print(f\"The salary of {self.name} in {self.company} is {self.salary}\")\n",
    "    def changeCompany(cls,newname):\n",
    "        cls.company=newname\n",
    "emp1=Employee(\"Indra\",900000)\n",
    "emp2=Employee(\"Raja\",890000)"
   ]
  },
  {
   "cell_type": "code",
   "execution_count": 45,
   "id": "19eda732",
   "metadata": {},
   "outputs": [],
   "source": [
    "emp1.changeCompany(\"MINDTREE\")"
   ]
  },
  {
   "cell_type": "code",
   "execution_count": 46,
   "id": "e55f82e6",
   "metadata": {},
   "outputs": [
    {
     "data": {
      "text/plain": [
       "'MINDTREE'"
      ]
     },
     "execution_count": 46,
     "metadata": {},
     "output_type": "execute_result"
    }
   ],
   "source": [
    "emp1.company"
   ]
  },
  {
   "cell_type": "code",
   "execution_count": 47,
   "id": "f21c31c7",
   "metadata": {},
   "outputs": [],
   "source": [
    "emp1.changeCompany('AMAZON')"
   ]
  },
  {
   "cell_type": "code",
   "execution_count": 49,
   "id": "32dbf743",
   "metadata": {},
   "outputs": [
    {
     "data": {
      "text/plain": [
       "'LTTS'"
      ]
     },
     "execution_count": 49,
     "metadata": {},
     "output_type": "execute_result"
    }
   ],
   "source": [
    "Employee.company # here see that still the company is ltts only as we haven't given the decorator here"
   ]
  },
  {
   "cell_type": "code",
   "execution_count": 50,
   "id": "3cc3f8f6",
   "metadata": {},
   "outputs": [],
   "source": [
    "class Employee:\n",
    "    company=\"LTTS\" # class variables\n",
    "    def __init__(self,name,salary):\n",
    "        self.name=name # instance variables\n",
    "        self.salary=salary\n",
    "    def showdetails(self):\n",
    "        print(f\"The salary of {self.name} in {self.company} is {self.salary}\")\n",
    "    @classmethod\n",
    "    def changeCompany(cls,newname):\n",
    "        cls.company=newname\n",
    "emp1=Employee(\"Indra\",900000)\n",
    "emp2=Employee(\"Raja\",890000)"
   ]
  },
  {
   "cell_type": "code",
   "execution_count": 51,
   "id": "62c8d6a1",
   "metadata": {},
   "outputs": [],
   "source": [
    "emp1.changeCompany('AMAZON')"
   ]
  },
  {
   "cell_type": "code",
   "execution_count": 53,
   "id": "3d60e447",
   "metadata": {},
   "outputs": [
    {
     "data": {
      "text/plain": [
       "'AMAZON'"
      ]
     },
     "execution_count": 53,
     "metadata": {},
     "output_type": "execute_result"
    }
   ],
   "source": [
    "Employee.company # here see that company is changed for all the employee instances here"
   ]
  },
  {
   "cell_type": "markdown",
   "id": "febb8ea9",
   "metadata": {},
   "source": [
    "# day 70\n",
    "## class methods as alternate constructors"
   ]
  },
  {
   "cell_type": "code",
   "execution_count": 55,
   "id": "87237183",
   "metadata": {},
   "outputs": [],
   "source": [
    "# sometimes the data will be in wrong format\n",
    "# so we can't send that data to the constructor directly\n",
    "# it will definitely throw an error here \n",
    "# so we will use the help of the alternate constructors here\n",
    "# we have to parse data and then pass data to the constructor"
   ]
  },
  {
   "cell_type": "markdown",
   "id": "41cf9962",
   "metadata": {},
   "source": [
    "1. In OOP, the term constructor refers to a special type of method, that is automatically executed when an object is created from a class\n",
    "2. The purpose of a constructor is to initialize the objects attributes, allowing the object to be fully functional and ready to use.\n",
    "3. However there are times when you may want to create an object in a different way or with different initial values than what is provided by the default constructor.\n",
    "4. This is where class methods can be used as alternate constructors.\n",
    "5. A class methods belongs to a class rather than  to an instance of the class.\n",
    "6. One common use case for class methods as alternative constructors is when you want to create an object from data that is stored in a different format ,such as a string or a dictionary.\n",
    "7. Ex; \"Phani-9000000\",\"raja_9873450\"\n"
   ]
  },
  {
   "cell_type": "code",
   "execution_count": 59,
   "id": "504e0951",
   "metadata": {},
   "outputs": [
    {
     "name": "stdout",
     "output_type": "stream",
     "text": [
      "Raja\n",
      "1200000\n"
     ]
    }
   ],
   "source": [
    "class Employee:\n",
    "    def __init__(self,name,salary):\n",
    "        self.name=name\n",
    "        self.salary=salary\n",
    "a=Employee(\"Raja\",1200000)\n",
    "print(a.name)\n",
    "print(a.salary)"
   ]
  },
  {
   "cell_type": "code",
   "execution_count": 60,
   "id": "e21a180a",
   "metadata": {},
   "outputs": [],
   "source": [
    "# suppose we got the b data as \"indra-12390000\""
   ]
  },
  {
   "cell_type": "code",
   "execution_count": 61,
   "id": "1d627b20",
   "metadata": {},
   "outputs": [
    {
     "name": "stdout",
     "output_type": "stream",
     "text": [
      "Raja\n",
      "1200000\n"
     ]
    }
   ],
   "source": [
    "class Employee:\n",
    "    def __init__(self,name,salary):\n",
    "        self.name=name\n",
    "        self.salary=salary\n",
    "a=Employee(\"Raja\",1200000)\n",
    "print(a.name)\n",
    "print(a.salary)\n",
    "str1=\"indra-12390000\"\n",
    "# here we need to split the string and parse it and then pass it to the constructor"
   ]
  },
  {
   "cell_type": "code",
   "execution_count": 63,
   "id": "393bd718",
   "metadata": {},
   "outputs": [
    {
     "data": {
      "text/plain": [
       "['indra', '12390000']"
      ]
     },
     "execution_count": 63,
     "metadata": {},
     "output_type": "execute_result"
    }
   ],
   "source": [
    "str=str1.split(\"-\") # now we got the data in the form of list"
   ]
  },
  {
   "cell_type": "code",
   "execution_count": 65,
   "id": "15c6be81",
   "metadata": {},
   "outputs": [],
   "source": [
    "b=Employee(str1.split(\"-\")[0],str1.split(\"-\")[1])"
   ]
  },
  {
   "cell_type": "code",
   "execution_count": 66,
   "id": "dfbdf2e1",
   "metadata": {},
   "outputs": [
    {
     "data": {
      "text/plain": [
       "'indra'"
      ]
     },
     "execution_count": 66,
     "metadata": {},
     "output_type": "execute_result"
    }
   ],
   "source": [
    "b.name"
   ]
  },
  {
   "cell_type": "code",
   "execution_count": 67,
   "id": "b2e715df",
   "metadata": {},
   "outputs": [
    {
     "data": {
      "text/plain": [
       "'12390000'"
      ]
     },
     "execution_count": 67,
     "metadata": {},
     "output_type": "execute_result"
    }
   ],
   "source": [
    "b.salary"
   ]
  },
  {
   "cell_type": "code",
   "execution_count": 68,
   "id": "c5e05d57",
   "metadata": {},
   "outputs": [],
   "source": [
    "# but everytime if we write this our code looks messy and for example, 10 objects  ten times writing like this split is very messy\n",
    "# so we use help of the class methods as alternate constructors here"
   ]
  },
  {
   "cell_type": "code",
   "execution_count": 73,
   "id": "511be403",
   "metadata": {},
   "outputs": [
    {
     "name": "stdout",
     "output_type": "stream",
     "text": [
      "Raja\n",
      "1200000\n"
     ]
    }
   ],
   "source": [
    "class Employee:\n",
    "    def __init__(self,name,salary):\n",
    "        self.name=name\n",
    "        self.salary=salary\n",
    "    @classmethod\n",
    "    def fromstr(cls,string):\n",
    "        return cls(string.split(\"-\")[0],string.split(\"-\")[1])\n",
    "a=Employee(\"Raja\",1200000)\n",
    "print(a.name)\n",
    "print(a.salary)\n",
    "str1=\"indra-12390000\""
   ]
  },
  {
   "cell_type": "code",
   "execution_count": 74,
   "id": "eff501f6",
   "metadata": {},
   "outputs": [],
   "source": [
    "c=Employee.fromstr(\"lucky-908888000\")"
   ]
  },
  {
   "cell_type": "code",
   "execution_count": 75,
   "id": "aff07b62",
   "metadata": {},
   "outputs": [
    {
     "data": {
      "text/plain": [
       "'lucky'"
      ]
     },
     "execution_count": 75,
     "metadata": {},
     "output_type": "execute_result"
    }
   ],
   "source": [
    "c.name"
   ]
  },
  {
   "cell_type": "code",
   "execution_count": 76,
   "id": "8a7d1611",
   "metadata": {},
   "outputs": [
    {
     "data": {
      "text/plain": [
       "'908888000'"
      ]
     },
     "execution_count": 76,
     "metadata": {},
     "output_type": "execute_result"
    }
   ],
   "source": [
    "c.salary"
   ]
  },
  {
   "cell_type": "code",
   "execution_count": 77,
   "id": "edc8dc63",
   "metadata": {},
   "outputs": [
    {
     "data": {
      "text/plain": [
       "str"
      ]
     },
     "execution_count": 77,
     "metadata": {},
     "output_type": "execute_result"
    }
   ],
   "source": [
    "type(c.salary)"
   ]
  },
  {
   "cell_type": "code",
   "execution_count": 6,
   "id": "1b06376a",
   "metadata": {},
   "outputs": [
    {
     "name": "stdout",
     "output_type": "stream",
     "text": [
      "Raja\n",
      "1200000\n"
     ]
    }
   ],
   "source": [
    "class Employee:\n",
    "    def __init__(self,name,salary):\n",
    "        self.name=name\n",
    "        self.salary=salary\n",
    "    @classmethod\n",
    "    def fromstr(cls,string):\n",
    "        name,age=string.split(\"-\") # here we can simply use like this\n",
    "        return cls(name,int(age))\n",
    "a=Employee(\"Raja\",1200000)\n",
    "print(a.name)\n",
    "print(a.salary)\n",
    "str1=\"indra-12390000\"\n",
    "emp1=Employee.fromstr(str1)"
   ]
  },
  {
   "cell_type": "code",
   "execution_count": 7,
   "id": "a2a281a4",
   "metadata": {},
   "outputs": [
    {
     "data": {
      "text/plain": [
       "12390000"
      ]
     },
     "execution_count": 7,
     "metadata": {},
     "output_type": "execute_result"
    }
   ],
   "source": [
    "emp1.salary"
   ]
  },
  {
   "cell_type": "code",
   "execution_count": 8,
   "id": "ca18376c",
   "metadata": {},
   "outputs": [
    {
     "data": {
      "text/plain": [
       "int"
      ]
     },
     "execution_count": 8,
     "metadata": {},
     "output_type": "execute_result"
    }
   ],
   "source": [
    "type(emp1.salary)"
   ]
  },
  {
   "cell_type": "markdown",
   "id": "e54460ea",
   "metadata": {},
   "source": [
    "# lec 71\n",
    "## dir ,dict, help"
   ]
  },
  {
   "cell_type": "markdown",
   "id": "d0578f2d",
   "metadata": {},
   "source": [
    "1. Mainly  useful for the object introspection.It means to know what is present in an object and how can we use it.\n",
    "2. We know a class is present but we don't know what attributes and methods are present in the class.\n",
    "3. So we will take help of the dict dir and help to get the information about an object.\n",
    "4. They make it easy for us to understand how classes resolve various functions and execute code. \n",
    "\n",
    "\n",
    " # dir()\n",
    " 1. It returns a list of all the attributes and methods (including dunder methods) available for an object.\n",
    " 2. It is a useful tool for discovering what you can do with an object.\n",
    " "
   ]
  },
  {
   "cell_type": "code",
   "execution_count": 9,
   "id": "b650a315",
   "metadata": {},
   "outputs": [],
   "source": [
    "x=[1,2,3,5]"
   ]
  },
  {
   "cell_type": "code",
   "execution_count": 10,
   "id": "ffe98b9d",
   "metadata": {},
   "outputs": [
    {
     "data": {
      "text/plain": [
       "['__add__',\n",
       " '__class__',\n",
       " '__class_getitem__',\n",
       " '__contains__',\n",
       " '__delattr__',\n",
       " '__delitem__',\n",
       " '__dir__',\n",
       " '__doc__',\n",
       " '__eq__',\n",
       " '__format__',\n",
       " '__ge__',\n",
       " '__getattribute__',\n",
       " '__getitem__',\n",
       " '__gt__',\n",
       " '__hash__',\n",
       " '__iadd__',\n",
       " '__imul__',\n",
       " '__init__',\n",
       " '__init_subclass__',\n",
       " '__iter__',\n",
       " '__le__',\n",
       " '__len__',\n",
       " '__lt__',\n",
       " '__mul__',\n",
       " '__ne__',\n",
       " '__new__',\n",
       " '__reduce__',\n",
       " '__reduce_ex__',\n",
       " '__repr__',\n",
       " '__reversed__',\n",
       " '__rmul__',\n",
       " '__setattr__',\n",
       " '__setitem__',\n",
       " '__sizeof__',\n",
       " '__str__',\n",
       " '__subclasshook__',\n",
       " 'append',\n",
       " 'clear',\n",
       " 'copy',\n",
       " 'count',\n",
       " 'extend',\n",
       " 'index',\n",
       " 'insert',\n",
       " 'pop',\n",
       " 'remove',\n",
       " 'reverse',\n",
       " 'sort']"
      ]
     },
     "execution_count": 10,
     "metadata": {},
     "output_type": "execute_result"
    }
   ],
   "source": [
    "dir(x)"
   ]
  },
  {
   "cell_type": "code",
   "execution_count": 11,
   "id": "e2b84c3b",
   "metadata": {},
   "outputs": [
    {
     "data": {
      "text/plain": [
       "<method-wrapper '__add__' of list object at 0x00000132CCCC0800>"
      ]
     },
     "execution_count": 11,
     "metadata": {},
     "output_type": "execute_result"
    }
   ],
   "source": [
    "x.__add__ # it is a method wrapper "
   ]
  },
  {
   "cell_type": "markdown",
   "id": "49d43645",
   "metadata": {},
   "source": [
    "## __dict__\n",
    " This attribute returns a dictionary's representation of an object's attributes. Useful for introspection"
   ]
  },
  {
   "cell_type": "code",
   "execution_count": 13,
   "id": "59c45e38",
   "metadata": {},
   "outputs": [
    {
     "data": {
      "text/plain": [
       "{'name': 'indra', 'salary': 12390000}"
      ]
     },
     "execution_count": 13,
     "metadata": {},
     "output_type": "execute_result"
    }
   ],
   "source": [
    "emp1.__dict__ # program is present above \n",
    "# whatever attributes assigned to self all will be displayed here"
   ]
  },
  {
   "cell_type": "code",
   "execution_count": 14,
   "id": "602dc701",
   "metadata": {},
   "outputs": [],
   "source": [
    "# help() is used to get help documentation for an object,including a description of it's attributes and methods.\n"
   ]
  },
  {
   "cell_type": "code",
   "execution_count": 15,
   "id": "dd6c5ea6",
   "metadata": {},
   "outputs": [
    {
     "name": "stdout",
     "output_type": "stream",
     "text": [
      "Help on class str in module builtins:\n",
      "\n",
      "class str(object)\n",
      " |  str(object='') -> str\n",
      " |  str(bytes_or_buffer[, encoding[, errors]]) -> str\n",
      " |  \n",
      " |  Create a new string object from the given object. If encoding or\n",
      " |  errors is specified, then the object must expose a data buffer\n",
      " |  that will be decoded using the given encoding and error handler.\n",
      " |  Otherwise, returns the result of object.__str__() (if defined)\n",
      " |  or repr(object).\n",
      " |  encoding defaults to sys.getdefaultencoding().\n",
      " |  errors defaults to 'strict'.\n",
      " |  \n",
      " |  Methods defined here:\n",
      " |  \n",
      " |  __add__(self, value, /)\n",
      " |      Return self+value.\n",
      " |  \n",
      " |  __contains__(self, key, /)\n",
      " |      Return key in self.\n",
      " |  \n",
      " |  __eq__(self, value, /)\n",
      " |      Return self==value.\n",
      " |  \n",
      " |  __format__(self, format_spec, /)\n",
      " |      Return a formatted version of the string as described by format_spec.\n",
      " |  \n",
      " |  __ge__(self, value, /)\n",
      " |      Return self>=value.\n",
      " |  \n",
      " |  __getattribute__(self, name, /)\n",
      " |      Return getattr(self, name).\n",
      " |  \n",
      " |  __getitem__(self, key, /)\n",
      " |      Return self[key].\n",
      " |  \n",
      " |  __getnewargs__(...)\n",
      " |  \n",
      " |  __gt__(self, value, /)\n",
      " |      Return self>value.\n",
      " |  \n",
      " |  __hash__(self, /)\n",
      " |      Return hash(self).\n",
      " |  \n",
      " |  __iter__(self, /)\n",
      " |      Implement iter(self).\n",
      " |  \n",
      " |  __le__(self, value, /)\n",
      " |      Return self<=value.\n",
      " |  \n",
      " |  __len__(self, /)\n",
      " |      Return len(self).\n",
      " |  \n",
      " |  __lt__(self, value, /)\n",
      " |      Return self<value.\n",
      " |  \n",
      " |  __mod__(self, value, /)\n",
      " |      Return self%value.\n",
      " |  \n",
      " |  __mul__(self, value, /)\n",
      " |      Return self*value.\n",
      " |  \n",
      " |  __ne__(self, value, /)\n",
      " |      Return self!=value.\n",
      " |  \n",
      " |  __repr__(self, /)\n",
      " |      Return repr(self).\n",
      " |  \n",
      " |  __rmod__(self, value, /)\n",
      " |      Return value%self.\n",
      " |  \n",
      " |  __rmul__(self, value, /)\n",
      " |      Return value*self.\n",
      " |  \n",
      " |  __sizeof__(self, /)\n",
      " |      Return the size of the string in memory, in bytes.\n",
      " |  \n",
      " |  __str__(self, /)\n",
      " |      Return str(self).\n",
      " |  \n",
      " |  capitalize(self, /)\n",
      " |      Return a capitalized version of the string.\n",
      " |      \n",
      " |      More specifically, make the first character have upper case and the rest lower\n",
      " |      case.\n",
      " |  \n",
      " |  casefold(self, /)\n",
      " |      Return a version of the string suitable for caseless comparisons.\n",
      " |  \n",
      " |  center(self, width, fillchar=' ', /)\n",
      " |      Return a centered string of length width.\n",
      " |      \n",
      " |      Padding is done using the specified fill character (default is a space).\n",
      " |  \n",
      " |  count(...)\n",
      " |      S.count(sub[, start[, end]]) -> int\n",
      " |      \n",
      " |      Return the number of non-overlapping occurrences of substring sub in\n",
      " |      string S[start:end].  Optional arguments start and end are\n",
      " |      interpreted as in slice notation.\n",
      " |  \n",
      " |  encode(self, /, encoding='utf-8', errors='strict')\n",
      " |      Encode the string using the codec registered for encoding.\n",
      " |      \n",
      " |      encoding\n",
      " |        The encoding in which to encode the string.\n",
      " |      errors\n",
      " |        The error handling scheme to use for encoding errors.\n",
      " |        The default is 'strict' meaning that encoding errors raise a\n",
      " |        UnicodeEncodeError.  Other possible values are 'ignore', 'replace' and\n",
      " |        'xmlcharrefreplace' as well as any other name registered with\n",
      " |        codecs.register_error that can handle UnicodeEncodeErrors.\n",
      " |  \n",
      " |  endswith(...)\n",
      " |      S.endswith(suffix[, start[, end]]) -> bool\n",
      " |      \n",
      " |      Return True if S ends with the specified suffix, False otherwise.\n",
      " |      With optional start, test S beginning at that position.\n",
      " |      With optional end, stop comparing S at that position.\n",
      " |      suffix can also be a tuple of strings to try.\n",
      " |  \n",
      " |  expandtabs(self, /, tabsize=8)\n",
      " |      Return a copy where all tab characters are expanded using spaces.\n",
      " |      \n",
      " |      If tabsize is not given, a tab size of 8 characters is assumed.\n",
      " |  \n",
      " |  find(...)\n",
      " |      S.find(sub[, start[, end]]) -> int\n",
      " |      \n",
      " |      Return the lowest index in S where substring sub is found,\n",
      " |      such that sub is contained within S[start:end].  Optional\n",
      " |      arguments start and end are interpreted as in slice notation.\n",
      " |      \n",
      " |      Return -1 on failure.\n",
      " |  \n",
      " |  format(...)\n",
      " |      S.format(*args, **kwargs) -> str\n",
      " |      \n",
      " |      Return a formatted version of S, using substitutions from args and kwargs.\n",
      " |      The substitutions are identified by braces ('{' and '}').\n",
      " |  \n",
      " |  format_map(...)\n",
      " |      S.format_map(mapping) -> str\n",
      " |      \n",
      " |      Return a formatted version of S, using substitutions from mapping.\n",
      " |      The substitutions are identified by braces ('{' and '}').\n",
      " |  \n",
      " |  index(...)\n",
      " |      S.index(sub[, start[, end]]) -> int\n",
      " |      \n",
      " |      Return the lowest index in S where substring sub is found,\n",
      " |      such that sub is contained within S[start:end].  Optional\n",
      " |      arguments start and end are interpreted as in slice notation.\n",
      " |      \n",
      " |      Raises ValueError when the substring is not found.\n",
      " |  \n",
      " |  isalnum(self, /)\n",
      " |      Return True if the string is an alpha-numeric string, False otherwise.\n",
      " |      \n",
      " |      A string is alpha-numeric if all characters in the string are alpha-numeric and\n",
      " |      there is at least one character in the string.\n",
      " |  \n",
      " |  isalpha(self, /)\n",
      " |      Return True if the string is an alphabetic string, False otherwise.\n",
      " |      \n",
      " |      A string is alphabetic if all characters in the string are alphabetic and there\n",
      " |      is at least one character in the string.\n",
      " |  \n",
      " |  isascii(self, /)\n",
      " |      Return True if all characters in the string are ASCII, False otherwise.\n",
      " |      \n",
      " |      ASCII characters have code points in the range U+0000-U+007F.\n",
      " |      Empty string is ASCII too.\n",
      " |  \n",
      " |  isdecimal(self, /)\n",
      " |      Return True if the string is a decimal string, False otherwise.\n",
      " |      \n",
      " |      A string is a decimal string if all characters in the string are decimal and\n",
      " |      there is at least one character in the string.\n",
      " |  \n",
      " |  isdigit(self, /)\n",
      " |      Return True if the string is a digit string, False otherwise.\n",
      " |      \n",
      " |      A string is a digit string if all characters in the string are digits and there\n",
      " |      is at least one character in the string.\n",
      " |  \n",
      " |  isidentifier(self, /)\n",
      " |      Return True if the string is a valid Python identifier, False otherwise.\n",
      " |      \n",
      " |      Call keyword.iskeyword(s) to test whether string s is a reserved identifier,\n",
      " |      such as \"def\" or \"class\".\n",
      " |  \n",
      " |  islower(self, /)\n",
      " |      Return True if the string is a lowercase string, False otherwise.\n",
      " |      \n",
      " |      A string is lowercase if all cased characters in the string are lowercase and\n",
      " |      there is at least one cased character in the string.\n",
      " |  \n",
      " |  isnumeric(self, /)\n",
      " |      Return True if the string is a numeric string, False otherwise.\n",
      " |      \n",
      " |      A string is numeric if all characters in the string are numeric and there is at\n",
      " |      least one character in the string.\n",
      " |  \n",
      " |  isprintable(self, /)\n",
      " |      Return True if the string is printable, False otherwise.\n",
      " |      \n",
      " |      A string is printable if all of its characters are considered printable in\n",
      " |      repr() or if it is empty.\n",
      " |  \n",
      " |  isspace(self, /)\n",
      " |      Return True if the string is a whitespace string, False otherwise.\n",
      " |      \n",
      " |      A string is whitespace if all characters in the string are whitespace and there\n",
      " |      is at least one character in the string.\n",
      " |  \n",
      " |  istitle(self, /)\n",
      " |      Return True if the string is a title-cased string, False otherwise.\n",
      " |      \n",
      " |      In a title-cased string, upper- and title-case characters may only\n",
      " |      follow uncased characters and lowercase characters only cased ones.\n",
      " |  \n",
      " |  isupper(self, /)\n",
      " |      Return True if the string is an uppercase string, False otherwise.\n",
      " |      \n",
      " |      A string is uppercase if all cased characters in the string are uppercase and\n",
      " |      there is at least one cased character in the string.\n",
      " |  \n",
      " |  join(self, iterable, /)\n",
      " |      Concatenate any number of strings.\n",
      " |      \n",
      " |      The string whose method is called is inserted in between each given string.\n",
      " |      The result is returned as a new string.\n",
      " |      \n",
      " |      Example: '.'.join(['ab', 'pq', 'rs']) -> 'ab.pq.rs'\n",
      " |  \n",
      " |  ljust(self, width, fillchar=' ', /)\n",
      " |      Return a left-justified string of length width.\n",
      " |      \n",
      " |      Padding is done using the specified fill character (default is a space).\n",
      " |  \n",
      " |  lower(self, /)\n",
      " |      Return a copy of the string converted to lowercase.\n",
      " |  \n",
      " |  lstrip(self, chars=None, /)\n",
      " |      Return a copy of the string with leading whitespace removed.\n",
      " |      \n",
      " |      If chars is given and not None, remove characters in chars instead.\n",
      " |  \n",
      " |  partition(self, sep, /)\n",
      " |      Partition the string into three parts using the given separator.\n",
      " |      \n",
      " |      This will search for the separator in the string.  If the separator is found,\n",
      " |      returns a 3-tuple containing the part before the separator, the separator\n",
      " |      itself, and the part after it.\n",
      " |      \n",
      " |      If the separator is not found, returns a 3-tuple containing the original string\n",
      " |      and two empty strings.\n",
      " |  \n",
      " |  removeprefix(self, prefix, /)\n",
      " |      Return a str with the given prefix string removed if present.\n",
      " |      \n",
      " |      If the string starts with the prefix string, return string[len(prefix):].\n",
      " |      Otherwise, return a copy of the original string.\n",
      " |  \n",
      " |  removesuffix(self, suffix, /)\n",
      " |      Return a str with the given suffix string removed if present.\n",
      " |      \n",
      " |      If the string ends with the suffix string and that suffix is not empty,\n",
      " |      return string[:-len(suffix)]. Otherwise, return a copy of the original\n",
      " |      string.\n",
      " |  \n",
      " |  replace(self, old, new, count=-1, /)\n",
      " |      Return a copy with all occurrences of substring old replaced by new.\n",
      " |      \n",
      " |        count\n",
      " |          Maximum number of occurrences to replace.\n",
      " |          -1 (the default value) means replace all occurrences.\n",
      " |      \n",
      " |      If the optional argument count is given, only the first count occurrences are\n",
      " |      replaced.\n",
      " |  \n",
      " |  rfind(...)\n",
      " |      S.rfind(sub[, start[, end]]) -> int\n",
      " |      \n",
      " |      Return the highest index in S where substring sub is found,\n",
      " |      such that sub is contained within S[start:end].  Optional\n",
      " |      arguments start and end are interpreted as in slice notation.\n",
      " |      \n",
      " |      Return -1 on failure.\n",
      " |  \n",
      " |  rindex(...)\n",
      " |      S.rindex(sub[, start[, end]]) -> int\n",
      " |      \n",
      " |      Return the highest index in S where substring sub is found,\n",
      " |      such that sub is contained within S[start:end].  Optional\n",
      " |      arguments start and end are interpreted as in slice notation.\n",
      " |      \n",
      " |      Raises ValueError when the substring is not found.\n",
      " |  \n",
      " |  rjust(self, width, fillchar=' ', /)\n",
      " |      Return a right-justified string of length width.\n",
      " |      \n",
      " |      Padding is done using the specified fill character (default is a space).\n",
      " |  \n",
      " |  rpartition(self, sep, /)\n",
      " |      Partition the string into three parts using the given separator.\n",
      " |      \n",
      " |      This will search for the separator in the string, starting at the end. If\n",
      " |      the separator is found, returns a 3-tuple containing the part before the\n",
      " |      separator, the separator itself, and the part after it.\n",
      " |      \n",
      " |      If the separator is not found, returns a 3-tuple containing two empty strings\n",
      " |      and the original string.\n",
      " |  \n",
      " |  rsplit(self, /, sep=None, maxsplit=-1)\n",
      " |      Return a list of the words in the string, using sep as the delimiter string.\n",
      " |      \n",
      " |        sep\n",
      " |          The delimiter according which to split the string.\n",
      " |          None (the default value) means split according to any whitespace,\n",
      " |          and discard empty strings from the result.\n",
      " |        maxsplit\n",
      " |          Maximum number of splits to do.\n",
      " |          -1 (the default value) means no limit.\n",
      " |      \n",
      " |      Splits are done starting at the end of the string and working to the front.\n",
      " |  \n",
      " |  rstrip(self, chars=None, /)\n",
      " |      Return a copy of the string with trailing whitespace removed.\n",
      " |      \n",
      " |      If chars is given and not None, remove characters in chars instead.\n",
      " |  \n",
      " |  split(self, /, sep=None, maxsplit=-1)\n",
      " |      Return a list of the words in the string, using sep as the delimiter string.\n",
      " |      \n",
      " |      sep\n",
      " |        The delimiter according which to split the string.\n",
      " |        None (the default value) means split according to any whitespace,\n",
      " |        and discard empty strings from the result.\n",
      " |      maxsplit\n",
      " |        Maximum number of splits to do.\n",
      " |        -1 (the default value) means no limit.\n",
      " |  \n",
      " |  splitlines(self, /, keepends=False)\n",
      " |      Return a list of the lines in the string, breaking at line boundaries.\n",
      " |      \n",
      " |      Line breaks are not included in the resulting list unless keepends is given and\n",
      " |      true.\n",
      " |  \n",
      " |  startswith(...)\n",
      " |      S.startswith(prefix[, start[, end]]) -> bool\n",
      " |      \n",
      " |      Return True if S starts with the specified prefix, False otherwise.\n",
      " |      With optional start, test S beginning at that position.\n",
      " |      With optional end, stop comparing S at that position.\n",
      " |      prefix can also be a tuple of strings to try.\n",
      " |  \n",
      " |  strip(self, chars=None, /)\n",
      " |      Return a copy of the string with leading and trailing whitespace removed.\n",
      " |      \n",
      " |      If chars is given and not None, remove characters in chars instead.\n",
      " |  \n",
      " |  swapcase(self, /)\n",
      " |      Convert uppercase characters to lowercase and lowercase characters to uppercase.\n",
      " |  \n",
      " |  title(self, /)\n",
      " |      Return a version of the string where each word is titlecased.\n",
      " |      \n",
      " |      More specifically, words start with uppercased characters and all remaining\n",
      " |      cased characters have lower case.\n",
      " |  \n",
      " |  translate(self, table, /)\n",
      " |      Replace each character in the string using the given translation table.\n",
      " |      \n",
      " |        table\n",
      " |          Translation table, which must be a mapping of Unicode ordinals to\n",
      " |          Unicode ordinals, strings, or None.\n",
      " |      \n",
      " |      The table must implement lookup/indexing via __getitem__, for instance a\n",
      " |      dictionary or list.  If this operation raises LookupError, the character is\n",
      " |      left untouched.  Characters mapped to None are deleted.\n",
      " |  \n",
      " |  upper(self, /)\n",
      " |      Return a copy of the string converted to uppercase.\n",
      " |  \n",
      " |  zfill(self, width, /)\n",
      " |      Pad a numeric string with zeros on the left, to fill a field of the given width.\n",
      " |      \n",
      " |      The string is never truncated.\n",
      " |  \n",
      " |  ----------------------------------------------------------------------\n",
      " |  Static methods defined here:\n",
      " |  \n",
      " |  __new__(*args, **kwargs) from builtins.type\n",
      " |      Create and return a new object.  See help(type) for accurate signature.\n",
      " |  \n",
      " |  maketrans(...)\n",
      " |      Return a translation table usable for str.translate().\n",
      " |      \n",
      " |      If there is only one argument, it must be a dictionary mapping Unicode\n",
      " |      ordinals (integers) or characters to Unicode ordinals, strings or None.\n",
      " |      Character keys will be then converted to ordinals.\n",
      " |      If there are two arguments, they must be strings of equal length, and\n",
      " |      in the resulting dictionary, each character in x will be mapped to the\n",
      " |      character at the same position in y. If there is a third argument, it\n",
      " |      must be a string, whose characters will be mapped to None in the result.\n",
      "\n"
     ]
    }
   ],
   "source": [
    "help(str)"
   ]
  },
  {
   "cell_type": "code",
   "execution_count": 16,
   "id": "c4724a39",
   "metadata": {},
   "outputs": [
    {
     "name": "stdout",
     "output_type": "stream",
     "text": [
      "Help on class Employee in module __main__:\n",
      "\n",
      "class Employee(builtins.object)\n",
      " |  Employee(name, salary)\n",
      " |  \n",
      " |  Methods defined here:\n",
      " |  \n",
      " |  __init__(self, name, salary)\n",
      " |      Initialize self.  See help(type(self)) for accurate signature.\n",
      " |  \n",
      " |  ----------------------------------------------------------------------\n",
      " |  Class methods defined here:\n",
      " |  \n",
      " |  fromstr(string) from builtins.type\n",
      " |  \n",
      " |  ----------------------------------------------------------------------\n",
      " |  Data descriptors defined here:\n",
      " |  \n",
      " |  __dict__\n",
      " |      dictionary for instance variables (if defined)\n",
      " |  \n",
      " |  __weakref__\n",
      " |      list of weak references to the object (if defined)\n",
      "\n"
     ]
    }
   ],
   "source": [
    "help(Employee)"
   ]
  },
  {
   "cell_type": "code",
   "execution_count": null,
   "id": "7e193fad",
   "metadata": {},
   "outputs": [],
   "source": []
  }
 ],
 "metadata": {
  "kernelspec": {
   "display_name": "Python 3 (ipykernel)",
   "language": "python",
   "name": "python3"
  },
  "language_info": {
   "codemirror_mode": {
    "name": "ipython",
    "version": 3
   },
   "file_extension": ".py",
   "mimetype": "text/x-python",
   "name": "python",
   "nbconvert_exporter": "python",
   "pygments_lexer": "ipython3",
   "version": "3.9.13"
  }
 },
 "nbformat": 4,
 "nbformat_minor": 5
}
