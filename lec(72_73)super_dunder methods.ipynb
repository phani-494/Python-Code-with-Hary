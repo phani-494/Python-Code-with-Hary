{
 "cells": [
  {
   "cell_type": "markdown",
   "id": "6732ea1c",
   "metadata": {},
   "source": [
    " # lec 72\n",
    "## super method"
   ]
  },
  {
   "cell_type": "code",
   "execution_count": 1,
   "id": "b32704f5",
   "metadata": {},
   "outputs": [],
   "source": [
    "# sometimes we need to call parent class methods from child class methods\n",
    "# so we will use super() to do this task."
   ]
  },
  {
   "cell_type": "markdown",
   "id": "3125e899",
   "metadata": {},
   "source": [
    "1. Super keyword is used to refer to the parent class.\n",
    "2. It is especially useful when a class inherits from multiple parent classes and you want to call a method from one of it's parents classes.\n",
    "3. When a class inherits from a parent class,it can override or extend the methods defined in the parent class.\n",
    "4. However, sometimes you might want to use the parent class method in the child class."
   ]
  },
  {
   "cell_type": "code",
   "execution_count": 8,
   "id": "ae5abc61",
   "metadata": {},
   "outputs": [],
   "source": [
    "class Parentclass:\n",
    "    def parentmethod(self):\n",
    "        print(\"This is the parent method.\")\n",
    "class Childclass(Parentclass):\n",
    "    def childmethod(self):\n",
    "        print(\"This is the child method\")\n",
    "        super().parentmethod()\n",
    "        \n",
    "child_obj=Childclass()"
   ]
  },
  {
   "cell_type": "code",
   "execution_count": 9,
   "id": "d3186f10",
   "metadata": {},
   "outputs": [
    {
     "name": "stdout",
     "output_type": "stream",
     "text": [
      "This is the child method\n",
      "This is the parent method.\n"
     ]
    }
   ],
   "source": [
    "child_obj.childmethod()"
   ]
  },
  {
   "cell_type": "code",
   "execution_count": 10,
   "id": "dd46101d",
   "metadata": {},
   "outputs": [],
   "source": [
    "# if the parent method presents in the childclass then it will be overrided "
   ]
  },
  {
   "cell_type": "code",
   "execution_count": 12,
   "id": "91b5cbaf",
   "metadata": {},
   "outputs": [
    {
     "name": "stdout",
     "output_type": "stream",
     "text": [
      "This is the parent method in child class.\n"
     ]
    }
   ],
   "source": [
    "class Parentclass:\n",
    "    def parentmethod(self):\n",
    "        print(\"This is the parent method.\")\n",
    "class Childclass(Parentclass):\n",
    "    def parentmethod(self): # now this method will called here\n",
    "        print(\"This is the parent method in child class.\")\n",
    "        #super().parentmethod() \n",
    "    def childmethod(self):\n",
    "        print(\"This is the child method\")\n",
    "       \n",
    "        \n",
    "child_obj=Childclass()\n",
    "child_obj.parentmethod()"
   ]
  },
  {
   "cell_type": "code",
   "execution_count": null,
   "id": "ac19db07",
   "metadata": {},
   "outputs": [],
   "source": [
    "# Also we want to execute the parentmethod of parentclass in the parentmethod of childclass"
   ]
  },
  {
   "cell_type": "code",
   "execution_count": 14,
   "id": "909c5160",
   "metadata": {},
   "outputs": [
    {
     "name": "stdout",
     "output_type": "stream",
     "text": [
      "This is the parent method in child class.\n",
      "This is the parent method in parent class.\n"
     ]
    }
   ],
   "source": [
    "class Parentclass:\n",
    "    def parentmethod(self):\n",
    "        print(\"This is the parent method in parent class.\")\n",
    "class Childclass(Parentclass):\n",
    "    def parentmethod(self): # now this method will called here\n",
    "        print(\"This is the parent method in child class.\")\n",
    "        super().parentmethod()  # this will go one step ahead and prints the parent method present in the Parentclass\n",
    "    def childmethod(self):\n",
    "        print(\"This is the child method\")\n",
    "       \n",
    "        \n",
    "child_obj=Childclass()\n",
    "child_obj.parentmethod() # if the given method doesn't exist in child class , then  it will check the parent class for this method."
   ]
  },
  {
   "cell_type": "code",
   "execution_count": 17,
   "id": "ecb71483",
   "metadata": {},
   "outputs": [],
   "source": [
    "# we can also call the construtor using the super keyword.\n",
    "class Employee:\n",
    "    def __init__(self,name,salary):\n",
    "        self.name=name\n",
    "        self.salary=salary\n",
    "        \n",
    "class Programmer(Employee):\n",
    "    def __init__(self,name,salary,language): # if we see here the code is repeated which means below two lines \n",
    "          #already present in the init of employee. so we do not repeat(DRY) the code\n",
    "        self.name=name\n",
    "        self.salary=salary\n",
    "        self.language=language\n",
    "p1=Programmer(\"Indra\",35600000,\"Python\")"
   ]
  },
  {
   "cell_type": "code",
   "execution_count": 18,
   "id": "ae109c17",
   "metadata": {},
   "outputs": [
    {
     "data": {
      "text/plain": [
       "35600000"
      ]
     },
     "execution_count": 18,
     "metadata": {},
     "output_type": "execute_result"
    }
   ],
   "source": [
    "p1.salary"
   ]
  },
  {
   "cell_type": "code",
   "execution_count": 20,
   "id": "1d26bf11",
   "metadata": {},
   "outputs": [],
   "source": [
    "class Employee:\n",
    "    def __init__(self,name,salary):\n",
    "        self.name=name\n",
    "        self.salary=salary\n",
    "        \n",
    "class Programmer(Employee):\n",
    "    def __init__(self,name,salary,language): # if we see here the code is repeated which means below two lines \n",
    "          #already present in the init of employee. so we do not repeat(DRY) the code\n",
    "        super().__init__(name,salary)\n",
    "        self.language=language\n",
    "p1=Programmer(\"Indra\",35600000,\"Python\")"
   ]
  },
  {
   "cell_type": "markdown",
   "id": "09bea33f",
   "metadata": {},
   "source": [
    "# lec 73\n",
    "## magic or dunder methods"
   ]
  },
  {
   "cell_type": "markdown",
   "id": "3d66943f",
   "metadata": {},
   "source": [
    "1. These are special methods which starts and ends with __ \n",
    "2. Dunder or magic methods in Python are the methods having two prefix and suffix underscores in the method name.\n",
    "3. Dunder here means double underscore. These are commonly used for operator overloading .\n",
    "4. Ex- __init__,__add__,__len__,__repr__ etc.\n",
    "5. The __init__ method for initialization is invoked without any call, when an instance of class is created,like constructors in certain other programming languages such as c++,java or c#.\n",
    "6. These methods are reason we can add two strings with '+' operator without any  explicit typecasting."
   ]
  },
  {
   "cell_type": "markdown",
   "id": "d3c45338",
   "metadata": {},
   "source": [
    "1. These are special methods that you can define in your classes,and when invoked ,they give you a powerful way to manipulate objects and their behaviour.\n",
    "2. They allow you to customize the behaviour of your classes.\n",
    "3. They are used to implement special methods such as the addition,subtraction and comparison operators,as well as some more advanced techniques like description and properties.\n",
    "\n",
    "# __init__()\n",
    "This method is responsible for setting up the object's initial states, and it is where you would typically define any instance variables that you need. Also called as Constructor\n",
    "\n",
    "We never call __init__ to create an object as it is directly called .\n"
   ]
  },
  {
   "cell_type": "code",
   "execution_count": 21,
   "id": "15727e8d",
   "metadata": {},
   "outputs": [],
   "source": [
    "class Employee:\n",
    "    def __init__(self,name):\n",
    "        self.name=name\n",
    "    \n",
    "e1=Employee(\"Indra\")"
   ]
  },
  {
   "cell_type": "code",
   "execution_count": 22,
   "id": "f205411e",
   "metadata": {},
   "outputs": [
    {
     "data": {
      "text/plain": [
       "'Indra'"
      ]
     },
     "execution_count": 22,
     "metadata": {},
     "output_type": "execute_result"
    }
   ],
   "source": [
    "e1.name"
   ]
  },
  {
   "cell_type": "code",
   "execution_count": 24,
   "id": "d27e09a1",
   "metadata": {},
   "outputs": [
    {
     "ename": "TypeError",
     "evalue": "object of type 'Employee' has no len()",
     "output_type": "error",
     "traceback": [
      "\u001b[1;31m---------------------------------------------------------------------------\u001b[0m",
      "\u001b[1;31mTypeError\u001b[0m                                 Traceback (most recent call last)",
      "\u001b[1;32m~\\AppData\\Local\\Temp\\ipykernel_49144\\2118572568.py\u001b[0m in \u001b[0;36m<module>\u001b[1;34m\u001b[0m\n\u001b[1;32m----> 1\u001b[1;33m \u001b[0mlen\u001b[0m\u001b[1;33m(\u001b[0m\u001b[0me1\u001b[0m\u001b[1;33m)\u001b[0m \u001b[1;31m# it gives error since there is no len() defined for this Class Employee\u001b[0m\u001b[1;33m\u001b[0m\u001b[1;33m\u001b[0m\u001b[0m\n\u001b[0m",
      "\u001b[1;31mTypeError\u001b[0m: object of type 'Employee' has no len()"
     ]
    }
   ],
   "source": [
    "len(e1) # it gives error since there is no len() defined for this Class Employee"
   ]
  },
  {
   "cell_type": "code",
   "execution_count": 25,
   "id": "cc3b2b30",
   "metadata": {},
   "outputs": [],
   "source": [
    "class Employee:\n",
    "    def __init__(self,name):\n",
    "        self.name=name\n",
    "    def __len__(self):\n",
    "        i=0\n",
    "        for c in self.name:\n",
    "            i=i+1\n",
    "        return i\n",
    "    \n",
    "e1=Employee(\"Indra\")"
   ]
  },
  {
   "cell_type": "code",
   "execution_count": 29,
   "id": "3cefc1f2",
   "metadata": {},
   "outputs": [
    {
     "name": "stdout",
     "output_type": "stream",
     "text": [
      "5\n",
      "<__main__.Employee object at 0x000002ACBE047610>\n"
     ]
    }
   ],
   "source": [
    "print(len(e1)) # since we defined for this __len__ here it will be called automatically.\n",
    "print(e1)"
   ]
  },
  {
   "cell_type": "markdown",
   "id": "f86100c8",
   "metadata": {},
   "source": [
    "# __str__ and __repr__ "
   ]
  },
  {
   "cell_type": "markdown",
   "id": "05642daf",
   "metadata": {},
   "source": [
    "1. These methods are both used to convert an object to a string representation.\n",
    "2. The str method is used when you want to print out an object , while the repr method is used when you want to get a string representation of an object that can be used to recreate the object.\n"
   ]
  },
  {
   "cell_type": "code",
   "execution_count": 30,
   "id": "ee12d1f4",
   "metadata": {},
   "outputs": [
    {
     "name": "stdout",
     "output_type": "stream",
     "text": [
      "<__main__.Employee object at 0x000002ACBE047610>\n"
     ]
    }
   ],
   "source": [
    "print(e1) # we want to represent this object with some more clear description."
   ]
  },
  {
   "cell_type": "code",
   "execution_count": 40,
   "id": "b32ba87a",
   "metadata": {},
   "outputs": [],
   "source": [
    "class Employee:\n",
    "    def __init__(self,name):\n",
    "        self.name=name\n",
    "    def __len__(self):\n",
    "        i=0\n",
    "        for c in self.name:\n",
    "            i=i+1\n",
    "        return i\n",
    "    def __str__(self):\n",
    "        return (f\"This object belongs to the Employee class  str\")\n",
    "    \n",
    "e1=Employee(\"Indra\")"
   ]
  },
  {
   "cell_type": "code",
   "execution_count": 41,
   "id": "617bd945",
   "metadata": {},
   "outputs": [
    {
     "name": "stdout",
     "output_type": "stream",
     "text": [
      "This object belongs to the Employee class  str\n"
     ]
    }
   ],
   "source": [
    "print(e1) # now observe here what is happening after giving the  the __str__()\n",
    "# instead of giving the addresses ,now we got some information about the object."
   ]
  },
  {
   "cell_type": "code",
   "execution_count": 42,
   "id": "110116d7",
   "metadata": {},
   "outputs": [],
   "source": [
    "class Employee:\n",
    "    def __init__(self,name):\n",
    "        self.name=name\n",
    "    def __len__(self):\n",
    "        i=0\n",
    "        for c in self.name:\n",
    "            i=i+1\n",
    "        return i\n",
    "    def __repr__(self):\n",
    "        return (f\"This object belongs to the Employee class repr\")\n",
    "    \n",
    "e1=Employee(\"Indra\")"
   ]
  },
  {
   "cell_type": "code",
   "execution_count": 44,
   "id": "64a2cdaa",
   "metadata": {},
   "outputs": [
    {
     "name": "stdout",
     "output_type": "stream",
     "text": [
      "This object belongs to the Employee class repr\n"
     ]
    }
   ],
   "source": [
    "print(e1) # it also works as same only\n",
    "# but if we have __str__ then it will be executed else the __repr__ will be executed."
   ]
  },
  {
   "cell_type": "code",
   "execution_count": 45,
   "id": "3c44783f",
   "metadata": {},
   "outputs": [],
   "source": [
    "class Employee:\n",
    "    def __init__(self,name):\n",
    "        self.name=name\n",
    "    def __len__(self):\n",
    "        i=0\n",
    "        for c in self.name:\n",
    "            i=i+1\n",
    "        return i\n",
    "    def __str__(self):\n",
    "        return (f\"This object belongs to the Employee class  str\")\n",
    "    def __repr__(self):\n",
    "        return (f\"This object belongs to the Employee class repr\")\n",
    "    \n",
    "e1=Employee(\"Indra\")"
   ]
  },
  {
   "cell_type": "code",
   "execution_count": 46,
   "id": "67b812bc",
   "metadata": {},
   "outputs": [
    {
     "name": "stdout",
     "output_type": "stream",
     "text": [
      "This object belongs to the Employee class  str\n"
     ]
    }
   ],
   "source": [
    "print(e1)"
   ]
  },
  {
   "cell_type": "code",
   "execution_count": 48,
   "id": "0900dcb6",
   "metadata": {},
   "outputs": [
    {
     "name": "stdout",
     "output_type": "stream",
     "text": [
      "This object belongs to the Employee class repr\n"
     ]
    }
   ],
   "source": [
    "print(repr(e1)) # we can call them individually if we want to."
   ]
  },
  {
   "cell_type": "code",
   "execution_count": null,
   "id": "a0b3ab40",
   "metadata": {},
   "outputs": [],
   "source": []
  }
 ],
 "metadata": {
  "kernelspec": {
   "display_name": "Python 3 (ipykernel)",
   "language": "python",
   "name": "python3"
  },
  "language_info": {
   "codemirror_mode": {
    "name": "ipython",
    "version": 3
   },
   "file_extension": ".py",
   "mimetype": "text/x-python",
   "name": "python",
   "nbconvert_exporter": "python",
   "pygments_lexer": "ipython3",
   "version": "3.9.13"
  }
 },
 "nbformat": 4,
 "nbformat_minor": 5
}
