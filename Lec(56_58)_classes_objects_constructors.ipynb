{
 "cells": [
  {
   "cell_type": "markdown",
   "id": "654af43c",
   "metadata": {},
   "source": [
    "# lec 56\n",
    "## Introduction to OOPS in Python"
   ]
  },
  {
   "cell_type": "markdown",
   "id": "4a288a7d",
   "metadata": {},
   "source": [
    "## OOP helps to map our variables with the real world entities\n",
    "# suppose we have 3 business man here with their data"
   ]
  },
  {
   "cell_type": "code",
   "execution_count": 2,
   "id": "f5bd5068",
   "metadata": {},
   "outputs": [],
   "source": [
    "# vijay\n",
    "sales1=7000\n",
    "profit1=6000\n",
    "ad1=1000 # expenditure\n",
    "# indra\n",
    "sales2=9000\n",
    "profit2=3000\n",
    "ad2=1500 # expenditure\n",
    "# lucky\n",
    "sales3=70000\n",
    "profit3=5000\n",
    "ad3=3000 # expenditure\n",
    "\n"
   ]
  },
  {
   "cell_type": "markdown",
   "id": "b96ac3cf",
   "metadata": {},
   "source": [
    "1. instead of creating these many variables we can simply create one businessman variable and manipulate the data also\n",
    "2. here so many variables are used here . so more space is consuming and understanding the code is also tough\n",
    "3. u should not keep using variables again and again. it will make your code dirty.\n"
   ]
  },
  {
   "cell_type": "code",
   "execution_count": 4,
   "id": "4111847b",
   "metadata": {},
   "outputs": [],
   "source": [
    "# so classes and objects helps us in this scenario where we can make a business man class and try to create the different objects from it"
   ]
  },
  {
   "cell_type": "markdown",
   "id": "d8a1aef1",
   "metadata": {},
   "source": [
    "# here we will map these to the real world entities using classes and object such as indra.sales,lucky.profit,vijay.exp\n",
    "## using only three variables but mapping to three different persons(objects) at a time"
   ]
  },
  {
   "cell_type": "markdown",
   "id": "5b54cc49",
   "metadata": {},
   "source": [
    "1. So we will make a businessman template here so that we can create the object u want from this template"
   ]
  },
  {
   "cell_type": "markdown",
   "id": "b6902735",
   "metadata": {},
   "source": [
    "# examples for templates\n",
    "1. A railway form which have all the  details to book a ticket\n",
    "2. A bank cheque to withdraw money\n",
    "3.  Registration form to enter some details for registering any event"
   ]
  },
  {
   "cell_type": "code",
   "execution_count": 9,
   "id": "d9f65933",
   "metadata": {},
   "outputs": [],
   "source": [
    "# once a person fills the data then we can track easily that this data belongs to this person"
   ]
  },
  {
   "cell_type": "code",
   "execution_count": 10,
   "id": "7d0df87d",
   "metadata": {},
   "outputs": [],
   "source": [
    "# class -->blueprint which have all the variables required to fill the information of an object"
   ]
  },
  {
   "cell_type": "markdown",
   "id": "bfa06391",
   "metadata": {},
   "source": [
    "1. A class is a blueprint or a template for creating objects\n",
    "2. It defines the properties and methods that an object of that class will have.\n",
    "3. Properties are the data or state of an object.\n",
    "4. Methods are the actions or behaviours that an object can perform.\n",
    "5. An object is an instance of class and it contains it's own data and methods.\n",
    "6. Methods are same for all the objects but not the state or properties.\n"
   ]
  },
  {
   "cell_type": "markdown",
   "id": "8064b12d",
   "metadata": {},
   "source": [
    "# OOPS features\n",
    "1. Encapsulation:\n",
    "    a : It means that the internal state of an object is hidden and can only be accessed or modified through the object's method.\n",
    "    b : This helps to protect the object's data and prevent from being modified in unexpected ways.\n",
    "    \n",
    "2. Inheritance:\n",
    "    a : It allows new classes to be created that inherit the properties and methods of an existing class.\n",
    "    b : This allows for code reuse and makes it easy to create new classes that have similar functionality to existing classes.\n",
    "    \n",
    "3. Polymorphism:\n",
    "    a : It means that objects of different classes can be treated as if they were objects of a common class.\n",
    "    b : This allows for greater flexibilty in code and makes it easier to write code that can work with multiple types of objects.\n",
    "\n",
    "        "
   ]
  },
  {
   "cell_type": "markdown",
   "id": "c9e0351a",
   "metadata": {},
   "source": [
    "#lec 57\n",
    "## Classes and Objects \n",
    "1. A Class is a blueprint or a template for creating objetcs,providing initial values for state (member variables or attributes ) and implemnetation of behaviour (member functions or methods).\n",
    "2. The user defined objects are created using the class keyword"
   ]
  },
  {
   "cell_type": "code",
   "execution_count": 12,
   "id": "39c81a65",
   "metadata": {},
   "outputs": [],
   "source": [
    "class Person:\n",
    "    name=\"Indra\"\n",
    "    job=\"DATA ENGINEER\"\n",
    "    salary=10000000    # lets us now give default values for every object we create."
   ]
  },
  {
   "cell_type": "code",
   "execution_count": 13,
   "id": "1ea0a1f6",
   "metadata": {},
   "outputs": [],
   "source": [
    "phani=Person() # whatever the objects we created here all are unique objects but all have same data"
   ]
  },
  {
   "cell_type": "code",
   "execution_count": 14,
   "id": "d40c2ba9",
   "metadata": {},
   "outputs": [
    {
     "data": {
      "text/plain": [
       "'Indra'"
      ]
     },
     "execution_count": 14,
     "metadata": {},
     "output_type": "execute_result"
    }
   ],
   "source": [
    "phani.name"
   ]
  },
  {
   "cell_type": "code",
   "execution_count": 15,
   "id": "6fc2783c",
   "metadata": {},
   "outputs": [],
   "source": [
    "lucky=Person() # object is the instance of the class used to access the properties of the class"
   ]
  },
  {
   "cell_type": "code",
   "execution_count": 16,
   "id": "c947cd46",
   "metadata": {},
   "outputs": [
    {
     "data": {
      "text/plain": [
       "10000000"
      ]
     },
     "execution_count": 16,
     "metadata": {},
     "output_type": "execute_result"
    }
   ],
   "source": [
    "lucky.salary"
   ]
  },
  {
   "cell_type": "code",
   "execution_count": 21,
   "id": "61309ee0",
   "metadata": {},
   "outputs": [],
   "source": [
    "# for each object we created, we can change the attributes which we want.\n",
    "phani.name=\"Indra\" # change the name of phani"
   ]
  },
  {
   "cell_type": "code",
   "execution_count": 22,
   "id": "11e8e8aa",
   "metadata": {},
   "outputs": [
    {
     "data": {
      "text/plain": [
       "'Indra'"
      ]
     },
     "execution_count": 22,
     "metadata": {},
     "output_type": "execute_result"
    }
   ],
   "source": [
    "phani.name"
   ]
  },
  {
   "cell_type": "code",
   "execution_count": 23,
   "id": "bef758ad",
   "metadata": {},
   "outputs": [],
   "source": [
    "lucky.salary=90000000"
   ]
  },
  {
   "cell_type": "code",
   "execution_count": 24,
   "id": "c83b470c",
   "metadata": {},
   "outputs": [
    {
     "data": {
      "text/plain": [
       "90000000"
      ]
     },
     "execution_count": 24,
     "metadata": {},
     "output_type": "execute_result"
    }
   ],
   "source": [
    "lucky.salary"
   ]
  },
  {
   "cell_type": "code",
   "execution_count": 31,
   "id": "c53ced65",
   "metadata": {},
   "outputs": [],
   "source": [
    "# now we will create a method info here also which gives information of the object here\n",
    "class Person:\n",
    "    name=\"Indra\"\n",
    "    job=\"DATA ENGINEER\"\n",
    "    salary=10000000\n",
    "    def info(self):\n",
    "        print(f\"{self.name} is {self.job}\")\n",
    "lucky=Person()"
   ]
  },
  {
   "cell_type": "code",
   "execution_count": 32,
   "id": "885abc1b",
   "metadata": {},
   "outputs": [
    {
     "name": "stdout",
     "output_type": "stream",
     "text": [
      "Indra is DATA ENGINEER\n"
     ]
    }
   ],
   "source": [
    "lucky.info()"
   ]
  },
  {
   "cell_type": "markdown",
   "id": "39285811",
   "metadata": {},
   "source": [
    "# self parameter\n",
    "1. The self parameter is a reference to the current instance of the class and is used to access the variables that belong to the class"
   ]
  },
  {
   "cell_type": "markdown",
   "id": "c61f6f82",
   "metadata": {},
   "source": [
    "# self means that objects for which this method is called.\n",
    "## Constructor\n",
    "1. A constructor is a special method in class used to create and initilaise an object of a class\n",
    "2. It is initialized automatically when an object of a class is created.\n",
    "3. It is a unique that gets called automatically when an object is created of a class\n"
   ]
  },
  {
   "cell_type": "markdown",
   "id": "1c19bef1",
   "metadata": {},
   "source": [
    "# lec 58 \n",
    "## Constructors in python\n",
    "1. Constructors helps to make an object.\n",
    "2. Sometimes we want to create objects by passing arguments.At that time the constructor helps us to initialize something.\n",
    "3. Two types of constructors:\n",
    "   a. Parametrized Constructor\n",
    "   b. Default constructor\n",
    "4. init is one of the reserved funtion in python"
   ]
  },
  {
   "cell_type": "markdown",
   "id": "da16284b",
   "metadata": {},
   "source": [
    "1. in previous video we given default values in the class for every object we created.\n",
    "2.  now,we will see best way to create the object \n",
    "# we need a way from which we can pass this information to this class conveniently.(in the form of arguments)\n",
    "\n",
    "3.  so here we will use constructor by using a special keyword __init__ .\n",
    "## __init__() is a special method(dunder) which helps us to create a construtor.\n",
    "\n",
    "# A constructor is called whenever an object is created."
   ]
  },
  {
   "cell_type": "code",
   "execution_count": 6,
   "id": "cb79a889",
   "metadata": {},
   "outputs": [
    {
     "name": "stdout",
     "output_type": "stream",
     "text": [
      " This method is automatically called whenever an object is created.\n"
     ]
    }
   ],
   "source": [
    "class Person:\n",
    "    def __init__(self):\n",
    "        print(\" This method is automatically called whenever an object is created.\")\n",
    "A=Person()       "
   ]
  },
  {
   "cell_type": "code",
   "execution_count": 7,
   "id": "4a1e76f0",
   "metadata": {},
   "outputs": [
    {
     "name": "stdout",
     "output_type": "stream",
     "text": [
      " This method is automatically called whenever an object is created.\n"
     ]
    }
   ],
   "source": [
    "B=Person()"
   ]
  },
  {
   "cell_type": "code",
   "execution_count": 8,
   "id": "9e45f8db",
   "metadata": {},
   "outputs": [],
   "source": [
    "# init method is called every time when we are creating a new object outside of this person class."
   ]
  },
  {
   "cell_type": "markdown",
   "id": "5b2f36bd",
   "metadata": {},
   "source": [
    "1. So this init method is involved everytime whenever a new object has been created.\n",
    "2. By taking this advantage we can pass arguments here and give data to the object."
   ]
  },
  {
   "cell_type": "code",
   "execution_count": 13,
   "id": "e2868183",
   "metadata": {},
   "outputs": [],
   "source": [
    "class Person:\n",
    "    def __init__(self,name,job):\n",
    "        self.name=name\n",
    "        self.job=job\n",
    "    def info(self):\n",
    "        print(self.name,\"is\",self.job)\n",
    "        \n",
    "A=Person(\"Phani\",\"Data Engineer\")  "
   ]
  },
  {
   "cell_type": "code",
   "execution_count": 14,
   "id": "13bc63fd",
   "metadata": {},
   "outputs": [
    {
     "name": "stdout",
     "output_type": "stream",
     "text": [
      "Phani is Data Engineer\n"
     ]
    }
   ],
   "source": [
    "A.info()"
   ]
  },
  {
   "cell_type": "markdown",
   "id": "ac087cca",
   "metadata": {},
   "source": [
    " # we can also create the constructor by defining the function name with same class name"
   ]
  },
  {
   "cell_type": "markdown",
   "id": "55fbffe8",
   "metadata": {},
   "source": [
    "Dafault Constructor:\n",
    "     When the constructor doesn't accept any kind of arguments from the object and has only argument self, it is known as Default constructor"
   ]
  },
  {
   "cell_type": "code",
   "execution_count": null,
   "id": "7e7105ff",
   "metadata": {},
   "outputs": [],
   "source": []
  },
  {
   "cell_type": "markdown",
   "id": "3765b4d4",
   "metadata": {},
   "source": [
    "1. The main purpose of a constructor is to assign or initialize values to the data members of that class.\n",
    "2. It cannot return any value other than None.\n",
    "\n",
    "In parametrized constructor: when the constructor accepts arguments along with the self, it is known as parametrized constructor.\n",
    "\n",
    "    \n"
   ]
  },
  {
   "cell_type": "markdown",
   "id": "a4450c91",
   "metadata": {},
   "source": []
  }
 ],
 "metadata": {
  "kernelspec": {
   "display_name": "Python 3 (ipykernel)",
   "language": "python",
   "name": "python3"
  },
  "language_info": {
   "codemirror_mode": {
    "name": "ipython",
    "version": 3
   },
   "file_extension": ".py",
   "mimetype": "text/x-python",
   "name": "python",
   "nbconvert_exporter": "python",
   "pygments_lexer": "ipython3",
   "version": "3.9.13"
  }
 },
 "nbformat": 4,
 "nbformat_minor": 5
}
