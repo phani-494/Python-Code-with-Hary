{
 "cells": [
  {
   "cell_type": "markdown",
   "id": "596b401e",
   "metadata": {},
   "source": [
    "# lec 91\n",
    "## generators in python"
   ]
  },
  {
   "cell_type": "markdown",
   "id": "3415aeab",
   "metadata": {},
   "source": [
    "1. Generators are used to generate on the fly-value . We can create a generator by using the yield statement.\n",
    "1. (a). The yield statement returns a value from the generator and suspends the execution of the function until the next value is requested.\n",
    "2. Generators are quite different from a list . List haas already values in it. But generators generates values on the fly.\n",
    "3. Generators in python are a special type of functions that allow you to create an iterable sequence of values.\n",
    "4. It means that a geneartor function creates an generator object.\n",
    " The generator object is special itself because it doesn't store values but it stores the information using which we can create the values instantly on the fly.\n",
    "5. This means that the values are not stored in advance but the information used to create the values are stores in advance.\n"
   ]
  },
  {
   "cell_type": "code",
   "execution_count": 20,
   "id": "8ef87fee",
   "metadata": {},
   "outputs": [],
   "source": [
    "# instead of return we will use the yield keyword here\n",
    "#yield keyword returns a generator and suspend the execution \n",
    "def my_generator():\n",
    "    for i in range(100):\n",
    "        yield i  # here it doesn't need to store all 100 values \n",
    "        \n",
    "# since it is generating values on the fly,it will be very fast.\n",
    "# why we are using the generators ? we can also use a list but lists will store the values so more memory is consumed.\n",
    "# so we use the generators concept here.\n",
    "\n"
   ]
  },
  {
   "cell_type": "code",
   "execution_count": 24,
   "id": "c8c58495",
   "metadata": {},
   "outputs": [
    {
     "name": "stdout",
     "output_type": "stream",
     "text": [
      "0\n",
      "<generator object my_generator at 0x000001FD43299C10>\n"
     ]
    }
   ],
   "source": [
    "gen=my_generator() # at a time it will give only one value\n",
    "print(next(gen))\n",
    "print(gen)"
   ]
  },
  {
   "cell_type": "code",
   "execution_count": 22,
   "id": "09056491",
   "metadata": {},
   "outputs": [
    {
     "name": "stdout",
     "output_type": "stream",
     "text": [
      "1\n"
     ]
    }
   ],
   "source": [
    "print(next(gen))"
   ]
  },
  {
   "cell_type": "code",
   "execution_count": 23,
   "id": "0f60120d",
   "metadata": {},
   "outputs": [
    {
     "name": "stdout",
     "output_type": "stream",
     "text": [
      "2\n",
      "3\n",
      "4\n",
      "5\n",
      "6\n",
      "7\n",
      "8\n",
      "9\n",
      "10\n",
      "11\n",
      "12\n",
      "13\n",
      "14\n",
      "15\n",
      "16\n",
      "17\n",
      "18\n",
      "19\n",
      "20\n",
      "21\n",
      "22\n",
      "23\n",
      "24\n",
      "25\n",
      "26\n",
      "27\n",
      "28\n",
      "29\n",
      "30\n",
      "31\n",
      "32\n",
      "33\n",
      "34\n",
      "35\n",
      "36\n",
      "37\n",
      "38\n",
      "39\n",
      "40\n",
      "41\n",
      "42\n",
      "43\n",
      "44\n",
      "45\n",
      "46\n",
      "47\n",
      "48\n",
      "49\n",
      "50\n",
      "51\n",
      "52\n",
      "53\n",
      "54\n",
      "55\n",
      "56\n",
      "57\n",
      "58\n",
      "59\n",
      "60\n",
      "61\n",
      "62\n",
      "63\n",
      "64\n",
      "65\n",
      "66\n",
      "67\n",
      "68\n",
      "69\n",
      "70\n",
      "71\n",
      "72\n",
      "73\n",
      "74\n",
      "75\n",
      "76\n",
      "77\n",
      "78\n",
      "79\n",
      "80\n",
      "81\n",
      "82\n",
      "83\n",
      "84\n",
      "85\n",
      "86\n",
      "87\n",
      "88\n",
      "89\n",
      "90\n",
      "91\n",
      "92\n",
      "93\n",
      "94\n",
      "95\n",
      "96\n",
      "97\n",
      "98\n",
      "99\n"
     ]
    }
   ],
   "source": [
    "# \n",
    "for j in gen: # here it will start from since 1 is already printed . it will continue from that point\n",
    "    # the printed values again won't be printed \n",
    "    print(j)"
   ]
  },
  {
   "cell_type": "code",
   "execution_count": null,
   "id": "91550ccb",
   "metadata": {},
   "outputs": [],
   "source": []
  },
  {
   "cell_type": "code",
   "execution_count": 15,
   "id": "2c93251f",
   "metadata": {},
   "outputs": [],
   "source": [
    "def my_generator():\n",
    "    for i in range(1,10):\n",
    "        return i # see here once 1 is returned this function will be terminated . only 1 is printed if u call the function.\n",
    "    # but generator won't terminate the function\n",
    "gen1=my_generator()"
   ]
  },
  {
   "cell_type": "code",
   "execution_count": 16,
   "id": "96e0eff5",
   "metadata": {},
   "outputs": [
    {
     "name": "stdout",
     "output_type": "stream",
     "text": [
      "1\n"
     ]
    }
   ],
   "source": [
    "print(gen1)"
   ]
  },
  {
   "cell_type": "markdown",
   "id": "07110eb5",
   "metadata": {},
   "source": [
    "# benefits of using generator"
   ]
  },
  {
   "cell_type": "raw",
   "id": "bbb2a779",
   "metadata": {},
   "source": [
    "1. Generators allows you  yield values on the fly. i.e, to generate the values on the fly.\n",
    "2. on the fly means at the same time (rather than having to create and store the entire sequence in  memory)\n",
    "3. Generators allows you to generate the values in a more efficient and friendly manner as you don't have to generate all the values up front.\n"
   ]
  },
  {
   "cell_type": "markdown",
   "id": "1d881e06",
   "metadata": {},
   "source": [
    "## Lec 60\n",
    "## Getters and setters in Python"
   ]
  },
  {
   "cell_type": "markdown",
   "id": "ef2e3b40",
   "metadata": {},
   "source": [
    "By using getters and setters, these will helps us to use a function's return value as an object's property. we can also set it.\n",
    "https://www.geeksforgeeks.org/getter-and-setter-in-python/ refer this link  for more information."
   ]
  },
  {
   "cell_type": "raw",
   "id": "6634348f",
   "metadata": {},
   "source": [
    "getters and setters are also used for validating the getting and setting of attributes value. There is one more way to implement property function i.e. by using decorator. Python @property is one of the built-in decorators. The main purpose of any decorator is to change your class methods or attributes in such a way so that the user of your class no need to make any change in their code."
   ]
  },
  {
   "cell_type": "code",
   "execution_count": null,
   "id": "19a08eda",
   "metadata": {},
   "outputs": [],
   "source": [
    "Getters\n",
    "Getters in Python are methods that are used to access the values of an object's properties. They are used to return the value of a specific property, and are typically defined using the @property decorator. Here is an example of a simple class with a getter method:\n",
    "\n",
    "class MyClass:\n",
    "    def __init__(self, value):\n",
    "        self._value = value\n",
    "    @property\n",
    "    def value(self):\n",
    "        return self._value\n",
    "\n",
    "In this example, the MyClass class has a single property, _value, which is initialized in the init method. The value method is defined as a getter using the @property decorator, and is used to return the value of the _value property.\n",
    "\n",
    "To use the getter, we can create an instance of the MyClass class, and then access the value property as if it were an attribute:\n",
    "\n",
    ">>> obj = MyClass(10)\n",
    ">>> obj.value\n",
    "10\n",
    "\n",
    "Setters\n",
    "It is important to note that the getters do not take any parameters and we cannot set the value through getter method.For that we need setter method which can be added by decorating method with @property_name.setter\n",
    "\n",
    "Here is an example of a class with both getter and setter:\n",
    "\n",
    "class MyClass:\n",
    "    def __init__(self, value):\n",
    "        self._value = value\n",
    "    @property\n",
    "    def value(self):\n",
    "        return self._value\n",
    "    @value.setter\n",
    "    def value(self, new_value):\n",
    "        self._value = new_value\n",
    "\n",
    "We can use setter method like this:\n",
    "\n",
    ">>> obj = MyClass(10)\n",
    ">>> obj.value = 20\n",
    ">>> obj.value\n",
    "20\n",
    "\n",
    "In conclusion, getters are a convenient way to access the values of an object's properties, while keeping the internal representation of the property hidden. This can be useful for encapsulation and data validation."
   ]
  },
  {
   "cell_type": "code",
   "execution_count": 3,
   "id": "6dd3d355",
   "metadata": {},
   "outputs": [
    {
     "name": "stdout",
     "output_type": "stream",
     "text": [
      "setter method called\n"
     ]
    }
   ],
   "source": [
    "# Python program showing the use of\n",
    "# @property\n",
    "  \n",
    "class Geeks:\n",
    "     def __init__(self):\n",
    "          self._age = 0\n",
    "       \n",
    "     # using property decorator\n",
    "     # a getter function\n",
    "     @property\n",
    "     def age(self):\n",
    "         print(\"getter method called\")\n",
    "         return self._age\n",
    "       \n",
    "     # a setter function\n",
    "     @age.setter\n",
    "     def age(self, a):\n",
    "         if(a < 18):\n",
    "            raise ValueError(\"Sorry you age is below eligibility criteria\")\n",
    "         print(\"setter method called\")\n",
    "         self._age = a\n",
    "  \n",
    "mark = Geeks()\n",
    "  \n",
    "mark.age = 19\n",
    "  \n",
    "#print(mark.age)"
   ]
  },
  {
   "cell_type": "code",
   "execution_count": 6,
   "id": "e3f3bebc",
   "metadata": {},
   "outputs": [
    {
     "name": "stdout",
     "output_type": "stream",
     "text": [
      "getter method called\n"
     ]
    },
    {
     "data": {
      "text/plain": [
       "19"
      ]
     },
     "execution_count": 6,
     "metadata": {},
     "output_type": "execute_result"
    }
   ],
   "source": [
    "mark.age # it is just like get the property here. so simply gets the value . no need of using() since it is like property not method."
   ]
  },
  {
   "cell_type": "code",
   "execution_count": 7,
   "id": "c85620dd",
   "metadata": {},
   "outputs": [
    {
     "name": "stdout",
     "output_type": "stream",
     "text": [
      "Value is 10\n"
     ]
    }
   ],
   "source": [
    "# we should be able to able to use the values directly as obj._value should give the result.\n",
    "class Myclass:\n",
    "    def __init__(self,value):\n",
    "        self._value=value\n",
    "    def show(self):\n",
    "        print(f\"Value is {self._value}\")\n",
    "    @property\n",
    "    def value(self):\n",
    "        return self._value\n",
    "obj=Myclass(10)\n",
    "obj.show() # see here we used the show() method."
   ]
  },
  {
   "cell_type": "code",
   "execution_count": 9,
   "id": "853d5fa3",
   "metadata": {},
   "outputs": [
    {
     "data": {
      "text/plain": [
       "10"
      ]
     },
     "execution_count": 9,
     "metadata": {},
     "output_type": "execute_result"
    }
   ],
   "source": [
    "\n",
    "obj._value"
   ]
  },
  {
   "cell_type": "code",
   "execution_count": 11,
   "id": "4ad8e256",
   "metadata": {},
   "outputs": [
    {
     "name": "stdout",
     "output_type": "stream",
     "text": [
      "Value is 10\n"
     ]
    },
    {
     "data": {
      "text/plain": [
       "100"
      ]
     },
     "execution_count": 11,
     "metadata": {},
     "output_type": "execute_result"
    }
   ],
   "source": [
    "# now we want to make a property that should be able to multiply the \"value\" by 10.\n",
    "class Myclass:\n",
    "    def __init__(self,value):\n",
    "        self._value=value\n",
    "    def show(self):\n",
    "        print(f\"Value is {self._value}\")\n",
    "    @property   # getter . which will get the value\n",
    "    def ten_value(self):\n",
    "        return self._value*10\n",
    "obj=Myclass(10)\n",
    "obj.show()\n",
    "obj.ten_value"
   ]
  },
  {
   "cell_type": "code",
   "execution_count": 14,
   "id": "db7bd8f5",
   "metadata": {},
   "outputs": [
    {
     "name": "stdout",
     "output_type": "stream",
     "text": [
      "150\n"
     ]
    }
   ],
   "source": [
    "# for setting the value , we should use the @method_name.setter so that it can set the value.\n",
    "# now we will create one more decorator here as @ten_value.setter which can set the value to it.\n",
    "class Myclass:\n",
    "    def __init__(self,value):\n",
    "        self._value=value\n",
    "    def show(self):\n",
    "        print(f\"Value is {self._value}\")\n",
    "    @property   # getter . which will get the value # we are creating a method which is behaving like a property.\n",
    "    def ten_value(self):\n",
    "        return self._value*10\n",
    "    @ten_value.setter\n",
    "    def ten_value(self,new_value):\n",
    "        self._value=new_value\n",
    "        print(self._value)\n",
    "obj=Myclass(10)\n",
    "obj.ten_value=150 # this will set to it\n"
   ]
  },
  {
   "cell_type": "code",
   "execution_count": 15,
   "id": "00e296ea",
   "metadata": {},
   "outputs": [
    {
     "data": {
      "text/plain": [
       "1500"
      ]
     },
     "execution_count": 15,
     "metadata": {},
     "output_type": "execute_result"
    }
   ],
   "source": [
    "obj.ten_value # this will get the value. since we used here 10*self._value we got as 1500.\n"
   ]
  },
  {
   "cell_type": "code",
   "execution_count": null,
   "id": "c5f1eca2",
   "metadata": {},
   "outputs": [],
   "source": []
  }
 ],
 "metadata": {
  "kernelspec": {
   "display_name": "Python 3 (ipykernel)",
   "language": "python",
   "name": "python3"
  },
  "language_info": {
   "codemirror_mode": {
    "name": "ipython",
    "version": 3
   },
   "file_extension": ".py",
   "mimetype": "text/x-python",
   "name": "python",
   "nbconvert_exporter": "python",
   "pygments_lexer": "ipython3",
   "version": "3.9.13"
  }
 },
 "nbformat": 4,
 "nbformat_minor": 5
}
