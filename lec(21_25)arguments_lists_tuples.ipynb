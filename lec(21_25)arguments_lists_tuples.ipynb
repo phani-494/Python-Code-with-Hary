{
 "cells": [
  {
   "cell_type": "markdown",
   "id": "2eb2ffa2",
   "metadata": {},
   "source": [
    "# lec 21\n",
    "## function arguments "
   ]
  },
  {
   "cell_type": "raw",
   "id": "0b3165b2",
   "metadata": {},
   "source": [
    "Function Arguments and return statement\n",
    "There are four types of arguments that we can provide in a function:\n",
    "\n",
    "Default Arguments\n",
    "Keyword Arguments\n",
    "Variable length Arguments\n",
    "Required Arguments\n",
    "Default arguments:\n",
    "We can provide a default value while creating a function. This way the function assumes a default value even if a value is not provided in the function call for that argument.\n",
    "\n",
    "Example:\n",
    "\n",
    "def name(fname, mname = \"Jhon\", lname = \"Whatson\"):\n",
    "    print(\"Hello,\", fname, mname, lname)\n",
    "\n",
    "name(\"Amy\")\n",
    "Output:\n",
    "\n",
    "Hello, Amy Jhon Whatson\n",
    "Keyword arguments:\n",
    "We can provide arguments with key = value, this way the interpreter recognizes the arguments by the parameter name. Hence, the the order in which the arguments are passed does not matter.\n",
    "\n",
    "Example:\n",
    "\n",
    "def name(fname, mname, lname):\n",
    "    print(\"Hello,\", fname, mname, lname)\n",
    "\n",
    "name(mname = \"Peter\", lname = \"Wesker\", fname = \"Jade\")\n",
    "Output:\n",
    "\n",
    "Hello, Jade Peter Wesker\n",
    "Required arguments:\n",
    "In case we don’t pass the arguments with a key = value syntax, then it is necessary to pass the arguments in the correct positional order and the number of arguments passed should match with actual function definition.\n",
    "\n",
    "Example 1: when number of arguments passed does not match to the actual function definition.\n",
    "\n",
    "def name(fname, mname, lname):\n",
    "    print(\"Hello,\", fname, mname, lname)\n",
    "\n",
    "name(\"Peter\", \"Quill\")\n",
    "Output:\n",
    "\n",
    "name(\"Peter\", \"Quill\")\\\n",
    "TypeError: name() missing 1 required positional argument: 'lname'\n",
    "Example 2: when number of arguments passed matches to the actual function definition.\n",
    "\n",
    "def name(fname, mname, lname):\n",
    "    print(\"Hello,\", fname, mname, lname)\n",
    "\n",
    "name(\"Peter\", \"Ego\", \"Quill\")\n",
    "Output:\n",
    "\n",
    "Hello, Peter Ego Quill\n",
    "Variable-length arguments:\n",
    "Sometimes we may need to pass more arguments than those defined in the actual function. This can be done using variable-length arguments.\n",
    "\n",
    "There are two ways to achieve this:\n",
    "\n",
    "Arbitrary Arguments:\n",
    "While creating a function, pass a * before the parameter name while defining the function. The function accesses the arguments by processing them in the form of tuple.\n",
    "\n",
    "Example:\n",
    "\n",
    "def name(*name):\n",
    "    print(\"Hello,\", name[0], name[1], name[2])\n",
    "\n",
    "name(\"James\", \"Buchanan\", \"Barnes\")\n",
    "Output:\n",
    "\n",
    "Hello, James Buchanan Barnes\n",
    "Keyword Arbitrary Arguments:\n",
    "While creating a function, pass a * before the parameter name while defining the function. The function accesses the arguments by processing them in the form of dictionary.\n",
    "\n",
    "Example:\n",
    "\n",
    "def name(**name):\n",
    "    print(\"Hello,\", name[\"fname\"], name[\"mname\"], name[\"lname\"])\n",
    "\n",
    "name(mname = \"Buchanan\", lname = \"Barnes\", fname = \"James\")\n",
    "Output:\n",
    "\n",
    "Hello, James Buchanan Barnes\n",
    "return Statement\n",
    "The return statement is used to return the value of the expression back to the calling function.\n",
    "\n",
    "Example:\n",
    "\n",
    "def name(fname, mname, lname):\n",
    "    return \"Hello, \" + fname + \" \" + mname + \" \" + lname\n",
    "\n",
    "print(name(\"James\", \"Buchanan\", \"Barnes\"))\n",
    "Output:\n",
    "\n",
    "Hello, James Buchanan Barnes"
   ]
  },
  {
   "cell_type": "code",
   "execution_count": 3,
   "id": "a5d81518",
   "metadata": {},
   "outputs": [
    {
     "name": "stdout",
     "output_type": "stream",
     "text": [
      "The average is  5.5\n"
     ]
    }
   ],
   "source": [
    "def average(a, b, c=1):\n",
    "  print(\"The average is \", (a + b + c) / 2)\n",
    "average(4, 6)"
   ]
  },
  {
   "cell_type": "code",
   "execution_count": 1,
   "id": "b0878be3",
   "metadata": {},
   "outputs": [
    {
     "name": "stdout",
     "output_type": "stream",
     "text": [
      "4.75\n"
     ]
    }
   ],
   "source": [
    "\n",
    "\n",
    "\n",
    "def average(*numbers):\n",
    "  # print(type(numbers))\n",
    "  sum = 0\n",
    "  for i in numbers:\n",
    "    sum = sum + i\n",
    "  # print(\"Average is: \", sum / len(numbers))\n",
    "  # return 7\n",
    "  return sum / len(numbers)\n",
    "\n",
    "\n",
    "\n",
    "# average(b=9)\n",
    "\n",
    "c = average(5, 6, 7, 1)\n",
    "print(c)\n",
    "\n",
    "\n"
   ]
  },
  {
   "cell_type": "code",
   "execution_count": 4,
   "id": "ffb7985d",
   "metadata": {},
   "outputs": [
    {
     "name": "stdout",
     "output_type": "stream",
     "text": [
      "Hello, James Buchanan Barnes\n"
     ]
    }
   ],
   "source": [
    "def name(**name):\n",
    "  # print(type(name))\n",
    "  print(\"Hello,\", name[\"fname\"], name[\"mname\"], name[\"lname\"])\n",
    "\n",
    "\n",
    "name(mname=\"Buchanan\", lname=\"Barnes\", fname=\"James\")"
   ]
  },
  {
   "cell_type": "markdown",
   "id": "c446441d",
   "metadata": {},
   "source": [
    "# lec 22\n",
    "## Introduction to lists"
   ]
  },
  {
   "cell_type": "raw",
   "id": "045f8022",
   "metadata": {},
   "source": [
    "Python Lists\n",
    "Lists are ordered collection of data items.\n",
    "They store multiple items in a single variable.\n",
    "List items are separated by commas and enclosed within square brackets [].\n",
    "Lists are changeable meaning we can alter them after creation.\n",
    "Example 1:\n",
    "\n",
    "lst1 = [1,2,2,3,5,4,6]\n",
    "lst2 = [\"Red\", \"Green\", \"Blue\"]\n",
    "print(lst1)\n",
    "print(lst2)\n",
    "Output:\n",
    "\n",
    "[1, 2, 2, 3, 5, 4, 6]\n",
    "['Red', 'Green', 'Blue']\n",
    "Example 2:\n",
    "\n",
    "details = [\"Abhijeet\", 18, \"FYBScIT\", 9.8]\n",
    "print(details)\n",
    "Output:\n",
    "\n",
    "['Abhijeet', 18, 'FYBScIT', 9.8]\n",
    "As we can see, a single list can contain items of different data types."
   ]
  },
  {
   "cell_type": "code",
   "execution_count": 7,
   "id": "d6ea0fb8",
   "metadata": {},
   "outputs": [
    {
     "name": "stdout",
     "output_type": "stream",
     "text": [
      "[3, 5, 6, 'Harry', True, 6, 7, 2, 32, 345, 23]\n",
      "<class 'list'>\n",
      "3\n",
      "5\n",
      "6\n",
      "Harry\n",
      "True\n",
      "6\n"
     ]
    }
   ],
   "source": [
    "marks = [3, 5, 6, \"Harry\", True, 6, 7 , 2, 32, 345, 23]\n",
    "print(marks)\n",
    "print(type(marks))\n",
    "print(marks[0])\n",
    "print(marks[1])\n",
    "print(marks[2])\n",
    "print(marks[3])\n",
    "print(marks[4])\n",
    "print(marks[5])"
   ]
  },
  {
   "cell_type": "raw",
   "id": "72158782",
   "metadata": {},
   "source": [
    "List Index\n",
    "Each item/element in a list has its own unique index. This index can be used to access any particular item from the list. The first item has index [0], second item has index [1], third item has index [2] and so on.\n",
    "\n",
    "Example:\n",
    "colors = [\"Red\", \"Green\", \"Blue\", \"Yellow\", \"Green\"]\n",
    "#          [0]      [1]     [2]      [3]      [4]\n",
    "Accessing list items\n",
    "We can access list items by using its index with the square bracket syntax []. For example colors[0] will give \"Red\", colors[1] will give \"Green\" and so on...\n",
    "\n",
    "Positive Indexing:\n",
    "As we have seen that list items have index, as such we can access items using these indexes.\n",
    "\n",
    "Example:\n",
    "colors = [\"Red\", \"Green\", \"Blue\", \"Yellow\", \"Green\"]\n",
    "#          [0]      [1]     [2]      [3]      [4]\n",
    "print(colors[2])\n",
    "print(colors[4])\n",
    "print(colors[0])\n",
    "Output:\n",
    "Blue\n",
    "Green\n",
    "Red\n",
    "Negative Indexing:\n",
    "Similar to positive indexing, negative indexing is also used to access items, but from the end of the list. The last item has index [-1], second last item has index [-2], third last item has index [-3] and so on.\n",
    "\n",
    "Example:\n",
    "colors = [\"Red\", \"Green\", \"Blue\", \"Yellow\", \"Green\"]\n",
    "#          [-5]    [-4]    [-3]     [-2]      [-1]\n",
    "print(colors[-1])\n",
    "print(colors[-3])\n",
    "print(colors[-5])\n",
    "Output:\n",
    "Green\n",
    "Blue\n",
    "Red\n",
    "Check whether an item in present in the list?\n",
    "We can check if a given item is present in the list. This is done using the in keyword.\n",
    "\n",
    "colors = [\"Red\", \"Green\", \"Blue\", \"Yellow\", \"Green\"]\n",
    "if \"Yellow\" in colors:\n",
    "    print(\"Yellow is present.\")\n",
    "else:\n",
    "    print(\"Yellow is absent.\")\n",
    "Output:\n",
    "Yellow is present.\n",
    "colors = [\"Red\", \"Green\", \"Blue\", \"Yellow\", \"Green\"]\n",
    "if \"Orange\" in colors:\n",
    "    print(\"Orange is present.\")\n",
    "else:\n",
    "    print(\"Orange is absent.\")\n",
    "Output:\n",
    "Orange is absent.\n",
    "Range of Index:\n",
    "You can print a range of list items by specifying where you want to start, where do you want to end and if you want to skip elements in between the range.\n",
    "\n",
    "Syntax:\n",
    "\n",
    "listName[start : end : jumpIndex]\n",
    "Note: jump Index is optional. We will see this in later examples.\n",
    "\n",
    "Example: printing elements within a particular range:\n",
    "animals = [\"cat\", \"dog\", \"bat\", \"mouse\", \"pig\", \"horse\", \"donkey\", \"goat\", \"cow\"]\n",
    "print(animals[3:7])\t#using positive indexes\n",
    "print(animals[-7:-2])\t#using negative indexes'\n",
    "Output:\n",
    "['mouse', 'pig', 'horse', 'donkey']\n",
    "['bat', 'mouse', 'pig', 'horse', 'donkey']\n",
    "Here, we provide index of the element from where we want to start and the index of the element till which we want to print the values.\n",
    "\n",
    "Note: The element of the end index provided will not be included.\n",
    "\n",
    "Example: printing all element from a given index till the end\n",
    "animals = [\"cat\", \"dog\", \"bat\", \"mouse\", \"pig\", \"horse\", \"donkey\", \"goat\", \"cow\"]\n",
    "print(animals[4:])\t#using positive indexes\n",
    "print(animals[-4:])\t#using negative indexes\n",
    "Output:\n",
    "['pig', 'horse', 'donkey', 'goat', 'cow']\n",
    "['horse', 'donkey', 'goat', 'cow']\n",
    "When no end index is provided, the interpreter prints all the values till the end.\n",
    "\n",
    "Example: printing all elements from start to a given index\n",
    "animals = [\"cat\", \"dog\", \"bat\", \"mouse\", \"pig\", \"horse\", \"donkey\", \"goat\", \"cow\"]\n",
    "print(animals[:6])\t#using positive indexes\n",
    "print(animals[:-3])\t#using negative indexes\n",
    "Output:\n",
    "['cat', 'dog', 'bat', 'mouse', 'pig', 'horse']\n",
    "['cat', 'dog', 'bat', 'mouse', 'pig', 'horse']\n",
    "When no start index is provided, the interpreter prints all the values from start up to the end index provided.\n",
    "\n",
    "Example: Printing alternate values\n",
    "animals = [\"cat\", \"dog\", \"bat\", \"mouse\", \"pig\", \"horse\", \"donkey\", \"goat\", \"cow\"]\n",
    "print(animals[::2])\t\t#using positive indexes\n",
    "print(animals[-8:-1:2])\t#using negative indexes\n",
    "Output:\n",
    "['cat', 'bat', 'pig', 'donkey', 'cow']\n",
    "['dog', 'mouse', 'horse', 'goat']\n",
    "Here, we have not provided start and index, which means all the values will be considered. But as we have provided a jump index of 2 only alternate values will be printed.\n",
    "\n",
    "Example: printing every 3rd consecutive value withing a given range\n",
    "animals = [\"cat\", \"dog\", \"bat\", \"mouse\", \"pig\", \"horse\", \"donkey\", \"goat\", \"cow\"]\n",
    "print(animals[1:8:3])\n",
    "Output:\n",
    "['dog', 'pig', 'goat\n",
    "Here, jump index is 3. Hence it prints every 3rd element within given index."
   ]
  },
  {
   "cell_type": "code",
   "execution_count": 9,
   "id": "8610303c",
   "metadata": {},
   "outputs": [
    {
     "name": "stdout",
     "output_type": "stream",
     "text": [
      "32\n",
      "32\n",
      "6\n",
      "6\n",
      "No\n",
      "Yes\n",
      "[3, 5, 6, 'Harry', True, 6, 7]\n",
      "[5, 6, 'Harry', True, 6, 7, 2, 32]\n",
      "[5, True, 2]\n"
     ]
    }
   ],
   "source": [
    "print(marks[-3]) # Negative index\n",
    "print(marks[len(marks)-3]) # Positive index\n",
    "print(marks[5-3]) # Positive index\n",
    "print(marks[2]) # Positive index\n",
    "\n",
    "if \"6\" in marks:\n",
    "  print(\"Yes\")\n",
    "else:\n",
    "  print(\"No\")\n",
    "\n",
    "#Same thing applies for strings as well!\n",
    "if \"Ha\" in \"Harry\":\n",
    "  print(\"Yes\")\n",
    "\n",
    "print(marks[0:7])\n",
    "print(marks[1:9])\n",
    "print(marks[1:9:3])"
   ]
  },
  {
   "cell_type": "raw",
   "id": "f2c15029",
   "metadata": {},
   "source": [
    "lst = [i*i for i in range(10)]\n",
    "print(lst)\n",
    "lst = [i*i for i in range(10) if i%2==0]\n",
    "print(lst)List Comprehension\n",
    "List comprehensions are used for creating new lists from other iterables like lists, tuples, dictionaries, sets, and even in arrays and strings.\n",
    "\n",
    "Syntax:\n",
    "List = [Expression(item) for item in iterable if Condition]\n",
    "\n",
    "Expression: It is the item which is being iterated.\n",
    "\n",
    "Iterable: It can be list, tuples, dictionaries, sets, and even in arrays and strings.\n",
    "\n",
    "Condition: Condition checks if the item should be added to the new list or not.\n",
    "\n",
    "Example 1: Accepts items with the small letter “o” in the new list\n",
    "names = [\"Milo\", \"Sarah\", \"Bruno\", \"Anastasia\", \"Rosa\"]\n",
    "namesWith_O = [item for item in names if \"o\" in item]\n",
    "print(namesWith_O)\n",
    "Output:\n",
    "['Milo', 'Bruno', 'Rosa']\n",
    "Example 2: Accepts items which have more than 4 letters\n",
    "names = [\"Milo\", \"Sarah\", \"Bruno\", \"Anastasia\", \"Rosa\"]\n",
    "namesWith_O = [item for item in names if (len(item) > 4)]\n",
    "print(namesWith_O)\n",
    "Output:\n",
    "['Sarah', 'Bruno', 'Anastasia']"
   ]
  },
  {
   "cell_type": "code",
   "execution_count": 10,
   "id": "4f1ebbf7",
   "metadata": {},
   "outputs": [
    {
     "name": "stdout",
     "output_type": "stream",
     "text": [
      "[0, 1, 4, 9, 16, 25, 36, 49, 64, 81]\n",
      "[0, 4, 16, 36, 64]\n"
     ]
    }
   ],
   "source": [
    "lst = [i*i for i in range(10)]\n",
    "print(lst)\n",
    "lst = [i*i for i in range(10) if i%2==0]\n",
    "print(lst)"
   ]
  },
  {
   "cell_type": "markdown",
   "id": "ae09e695",
   "metadata": {},
   "source": [
    "# lec 23\n",
    "## List methods in python"
   ]
  },
  {
   "cell_type": "raw",
   "id": "c63a4599",
   "metadata": {},
   "source": [
    "List Methods\n",
    "list.sort()\n",
    "This method sorts the list in ascending order. The original list is updated\n",
    "\n",
    "Example 1:\n",
    "colors = [\"voilet\", \"indigo\", \"blue\", \"green\"]\n",
    "colors.sort()\n",
    "print(colors)\n",
    "\n",
    "num = [4,2,5,3,6,1,2,1,2,8,9,7]\n",
    "num.sort()\n",
    "print(num)\n",
    "Output:\n",
    "['blue', 'green', 'indigo', 'voilet']\\\n",
    "[1, 1, 2, 2, 2, 3, 4, 5, 6, 7, 8, 9]\n",
    "\n",
    "What if you want to print the list in descending order?\n",
    "We must give reverse=True as a parameter in the sort method.\n",
    "\n",
    "Example:\n",
    "colors = [\"voilet\", \"indigo\", \"blue\", \"green\"]\n",
    "colors.sort(reverse=True)\n",
    "print(colors)\n",
    "\n",
    "num = [4,2,5,3,6,1,2,1,2,8,9,7]\n",
    "num.sort(reverse=True)\n",
    "print(num)\n",
    "Output:\n",
    "['voilet', 'indigo', 'green', 'blue']\n",
    "[9, 8, 7, 6, 5, 4, 3, 2, 2, 2, 1, 1]\n",
    "The reverse parameter is set to False by default.\n",
    "\n",
    "Note: Do not mistake the reverse parameter with the reverse method.\n",
    "\n",
    "reverse()\n",
    "This method reverses the order of the list.\n",
    "\n",
    "Example:\n",
    "colors = [\"voilet\", \"indigo\", \"blue\", \"green\"]\n",
    "colors.reverse()\n",
    "print(colors)\n",
    "\n",
    "num = [4,2,5,3,6,1,2,1,2,8,9,7]\n",
    "num.reverse()\n",
    "print(num)\n",
    "Output:\n",
    "['green', 'blue', 'indigo', 'voilet']\n",
    "[7, 9, 8, 2, 1, 2, 1, 6, 3, 5, 2, 4]\n",
    "index()\n",
    "This method returns the index of the first occurrence of the list item.\n",
    "\n",
    "Example:\n",
    "colors = [\"voilet\", \"green\", \"indigo\", \"blue\", \"green\"]\n",
    "print(colors.index(\"green\"))\n",
    "\n",
    "num = [4,2,5,3,6,1,2,1,3,2,8,9,7]\n",
    "print(num.index(3))\n",
    "Output:\n",
    "\n",
    "1\n",
    "3\n",
    "count()\n",
    "Returns the count of the number of items with the given value.\n",
    "\n",
    "Example:\n",
    "colors = [\"voilet\", \"green\", \"indigo\", \"blue\", \"green\"]\n",
    "print(colors.count(\"green\"))\n",
    "\n",
    "num = [4,2,5,3,6,1,2,1,3,2,8,9,7]\n",
    "Output:\n",
    "2\n",
    "3\n",
    "copy()\n",
    "Returns copy of the list. This can be done to perform operations on the list without modifying the original list.\n",
    "\n",
    "Example:\n",
    "colors = [\"voilet\", \"green\", \"indigo\", \"blue\"]\n",
    "newlist = colors.copy()\n",
    "print(colors)\n",
    "print(newlist)\n",
    "Output:\n",
    "['voilet', 'green', 'indigo', 'blue']\n",
    "['voilet', 'green', 'indigo', 'blue']\n",
    "append():\n",
    "This method appends items to the end of the existing list.\n",
    "\n",
    "Example:\n",
    "colors = [\"voilet\", \"indigo\", \"blue\"]\n",
    "colors.append(\"green\")\n",
    "print(colors)\n",
    "Output:\n",
    "['voilet', 'indigo', 'blue', 'green']\n",
    "insert():\n",
    "This method inserts an item at the given index. User has to specify index and the item to be inserted within the insert() method.\n",
    "\n",
    "Example:\n",
    "colors = [\"voilet\", \"indigo\", \"blue\"]\n",
    "#           [0]        [1]      [2]\n",
    "\n",
    "colors.insert(1, \"green\")   #inserts item at index 1\n",
    "# updated list: colors = [\"voilet\", \"green\", \"indigo\", \"blue\"]\n",
    "#       indexs              [0]       [1]       [2]      [3]\n",
    "\n",
    "print(colors)\n",
    "Output:\n",
    "['voilet', 'green', 'indigo', 'blue']\n",
    "extend():\n",
    "This method adds an entire list or any other collection datatype (set, tuple, dictionary) to the existing list.\n",
    "\n",
    "Example 1:\n",
    "#add a list to a list\n",
    "colors = [\"voilet\", \"indigo\", \"blue\"]\n",
    "rainbow = [\"green\", \"yellow\", \"orange\", \"red\"]\n",
    "colors.extend(rainbow)\n",
    "print(colors)\n",
    "Output:\n",
    "['voilet', 'indigo', 'blue', 'green', 'yellow', 'orange', 'red']\n",
    "Concatenating two lists:\n",
    "You can simply concatenate two lists to join two lists.\n",
    "\n",
    "Example:\n",
    "colors = [\"voilet\", \"indigo\", \"blue\", \"green\"]\n",
    "colors2 = [\"yellow\", \"orange\", \"red\"]\n",
    "print(colors + colors2)\n",
    "Output:\n",
    "['voilet', 'indigo', 'blue', 'green', 'yellow', 'orange', 'red']"
   ]
  },
  {
   "cell_type": "code",
   "execution_count": 5,
   "id": "01db4c12",
   "metadata": {},
   "outputs": [
    {
     "name": "stdout",
     "output_type": "stream",
     "text": [
      "[11, 45, 1, 2, 4, 6, 1, 1]\n",
      "[11, 45, 1, 2, 4, 6, 1, 1, 7]\n",
      "[45, 11, 7, 6, 4, 2, 1, 1, 1]\n",
      "[1, 1, 1, 2, 4, 6, 7, 11, 45]\n",
      "0\n",
      "3\n"
     ]
    }
   ],
   "source": [
    "l = [11, 45, 1, 2, 4, 6, 1, 1]\n",
    "print(l)\n",
    "l.append(7)\n",
    "print(l)\n",
    "l.sort(reverse=True)\n",
    "print(l)\n",
    "l.reverse()\n",
    "print(l)\n",
    "print(l.index(1))\n",
    "print(l.count(1))\n"
   ]
  },
  {
   "cell_type": "code",
   "execution_count": 7,
   "id": "edd9ce3c",
   "metadata": {},
   "outputs": [
    {
     "name": "stdout",
     "output_type": "stream",
     "text": [
      "[1, 899, 899, 1, 1, 2, 4, 6, 7, 11, 45, 900, 1000, 1100]\n",
      "[1, 899, 899, 1, 1, 2, 4, 6, 7, 11, 45, 900, 1000, 1100]\n"
     ]
    }
   ],
   "source": [
    "m = l.copy()\n",
    "m[0] = 0\n",
    "l.insert(1, 899)\n",
    "m = [900, 1000, 1100]\n",
    "k = l + m\n",
    "print(k)\n",
    "l.extend(m)\n",
    "print(l)"
   ]
  },
  {
   "cell_type": "markdown",
   "id": "894962b0",
   "metadata": {},
   "source": [
    "# lec 24\n",
    "## Tuples in python"
   ]
  },
  {
   "cell_type": "raw",
   "id": "28a50014",
   "metadata": {},
   "source": [
    "Tuples are ordered collection of data items. They store multiple items in a single variable. Tuple items are separated by commas and enclosed within round brackets (). Tuples are unchangeable meaning we can not alter them after creation.\n",
    "\n",
    "Example 1:\n",
    "tuple1 = (1,2,2,3,5,4,6)\n",
    "tuple2 = (\"Red\", \"Green\", \"Blue\")\n",
    "print(tuple1)\n",
    "print(tuple2)\n",
    "Output:\n",
    "(1, 2, 2, 3, 5, 4, 6)\n",
    "('Red', 'Green', 'Blue')\n",
    "Example 2:\n",
    "details = (\"Abhijeet\", 18, \"FYBScIT\", 9.8)\n",
    "print(details)\n",
    "Output:\n",
    "('Abhijeet', 18, 'FYBScIT', 9.8)"
   ]
  },
  {
   "cell_type": "raw",
   "id": "61283c05",
   "metadata": {},
   "source": [
    "Accessing tuple items:\n",
    "I. Positive Indexing:\n",
    "As we have seen that tuple items have index, as such we can access items using these indexes.\n",
    "\n",
    "Example:\n",
    "\n",
    "country = (\"Spain\", \"Italy\", \"India\",)\n",
    "#            [0]      [1]      [2]     \n",
    "print(country[0])\n",
    "print(country[1])\n",
    "print(country[2])\n",
    "Output:\n",
    "\n",
    "Spain\n",
    "Italy\n",
    "India\n",
    "II. Negative Indexing:\n",
    "Similar to positive indexing, negative indexing is also used to access items, but from the end of the tuple. The last item has index [-1], second last item has index [-2], third last item has index [-3] and so on.\n",
    "\n",
    "Example:\n",
    "country = (\"Spain\", \"Italy\", \"India\", \"England\", \"Germany\")\n",
    "#            [0]      [1]      [2]       [3]        [4]\n",
    "print(country[-1]) # Similar to print(country[len(country) - 1])\n",
    "print(country[-3])\n",
    "print(country[-4])\n",
    "Output:\n",
    "Germany\n",
    "India\n",
    "Italy\n",
    "III. Check for item:\n",
    "We can check if a given item is present in the tuple. This is done using the in keyword.\n",
    "\n",
    "Example 1:\n",
    "country = (\"Spain\", \"Italy\", \"India\", \"England\", \"Germany\")\n",
    "if \"Germany\" in country:\n",
    "    print(\"Germany is present.\")\n",
    "else:\n",
    "    print(\"Germany is absent.\")\n",
    "Output:\n",
    "Germany is present.\n",
    "Example 2:\n",
    "country = (\"Spain\", \"Italy\", \"India\", \"England\", \"Germany\")\n",
    "if \"Russia\" in country:\n",
    "    print(\"Russia is present.\")\n",
    "else:\n",
    "    print(\"Russia is absent.\")\n",
    "Output:\n",
    "Russia is absent.\n",
    "IV. Range of Index:\n",
    "You can print a range of tuple items by specifying where do you want to start, where do you want to end and if you want to skip elements in between the range.\n",
    "\n",
    "Syntax:\n",
    "Tuple[start : end : jumpIndex]\n",
    "Note: jump Index is optional. We will see this in given examples.\n",
    "\n",
    "Example: Printing elements within a particular range:\n",
    "animals = (\"cat\", \"dog\", \"bat\", \"mouse\", \"pig\", \"horse\", \"donkey\", \"goat\", \"cow\")\n",
    "print(animals[3:7])     #using positive indexes\n",
    "print(animals[-7:-2])   #using negative indexes\n",
    "Output:\n",
    "('mouse', 'pig', 'horse', 'donkey')\n",
    "('bat', 'mouse', 'pig', 'horse', 'donkey')\n",
    "Here, we provide index of the element from where we want to start and the index of the element till which we want to print the values. Note: The element of the end index provided will not be included.\n",
    "\n",
    "Example: Printing all element from a given index till the end\n",
    "animals = (\"cat\", \"dog\", \"bat\", \"mouse\", \"pig\", \"horse\", \"donkey\", \"goat\", \"cow\")\n",
    "print(animals[4:])      #using positive indexes\n",
    "print(animals[-4:])     #using negative indexes\n",
    "Output:\n",
    "('pig', 'horse', 'donkey', 'goat', 'cow')\n",
    "('horse', 'donkey', 'goat', 'cow')\n",
    "When no end index is provided, the interpreter prints all the values till the end.\n",
    "\n",
    "Example: printing all elements from start to a given index\n",
    "animals = (\"cat\", \"dog\", \"bat\", \"mouse\", \"pig\", \"horse\", \"donkey\", \"goat\", \"cow\")\n",
    "print(animals[:6])      #using positive indexes\n",
    "print(animals[:-3])     #using negative indexes\n",
    "Output:\n",
    "('cat', 'dog', 'bat', 'mouse', 'pig', 'horse')\n",
    "('cat', 'dog', 'bat', 'mouse', 'pig', 'horse')\n",
    "When no start index is provided, the interpreter prints all the values from start up to the end index provided.\n",
    "\n",
    "Example: Print alternate values\n",
    "animals = (\"cat\", \"dog\", \"bat\", \"mouse\", \"pig\", \"horse\", \"donkey\", \"goat\", \"cow\")\n",
    "print(animals[::2])     #using positive indexes\n",
    "print(animals[-8:-1:2]) #using negative indexes\n",
    "Output:\n",
    "('cat', 'bat', 'pig', 'donkey', 'cow')\n",
    "('dog', 'mouse', 'horse', 'goat')\n",
    "Here, we have not provided start and end index, which means all the values will be considered. But as we have provided a jump index of 2 only alternate values will be printed.\n",
    "\n",
    "Example: printing every 3rd consecutive withing given range\n",
    "animals = (\"cat\", \"dog\", \"bat\", \"mouse\", \"pig\", \"horse\", \"donkey\", \"goat\", \"cow\")\n",
    "print(animals[1:8:3])\n",
    "Output:\n",
    "('dog', 'pig', 'goat')\n",
    "Here, jump index is 3. Hence it prints every 3rd element within given index."
   ]
  },
  {
   "cell_type": "code",
   "execution_count": 9,
   "id": "b36f21d3",
   "metadata": {},
   "outputs": [
    {
     "name": "stdout",
     "output_type": "stream",
     "text": [
      "<class 'tuple'> (1, 2, 76, 342, 32, 'green', True)\n",
      "7\n",
      "1\n",
      "True\n",
      "76\n",
      "(2, 76, 342)\n"
     ]
    }
   ],
   "source": [
    "tup = (1, 2, 76, 342, 32, \"green\", True)\n",
    "\n",
    "print(type(tup), tup)\n",
    "print(len(tup))\n",
    "print(tup[0])\n",
    "print(tup[-1])\n",
    "print(tup[2])\n",
    "\n",
    "\n",
    "if  3421 in tup:\n",
    "  print(\"Yes 342 is present in this tuple\")\n",
    "tup2 = tup[1:4]\n",
    "print(tup2)"
   ]
  },
  {
   "cell_type": "code",
   "execution_count": 11,
   "id": "b63e99f5",
   "metadata": {},
   "outputs": [
    {
     "ename": "TypeError",
     "evalue": "'tuple' object does not support item assignment",
     "output_type": "error",
     "traceback": [
      "\u001b[1;31m---------------------------------------------------------------------------\u001b[0m",
      "\u001b[1;31mTypeError\u001b[0m                                 Traceback (most recent call last)",
      "\u001b[1;32m~\\AppData\\Local\\Temp\\ipykernel_23444\\306521234.py\u001b[0m in \u001b[0;36m<module>\u001b[1;34m\u001b[0m\n\u001b[1;32m----> 1\u001b[1;33m \u001b[0mtup\u001b[0m\u001b[1;33m[\u001b[0m\u001b[1;36m0\u001b[0m\u001b[1;33m]\u001b[0m \u001b[1;33m=\u001b[0m \u001b[1;36m90\u001b[0m\u001b[1;33m\u001b[0m\u001b[1;33m\u001b[0m\u001b[0m\n\u001b[0m",
      "\u001b[1;31mTypeError\u001b[0m: 'tuple' object does not support item assignment"
     ]
    }
   ],
   "source": [
    "tup[0] = 90"
   ]
  },
  {
   "cell_type": "code",
   "execution_count": 12,
   "id": "d1d5d83c",
   "metadata": {},
   "outputs": [
    {
     "ename": "IndexError",
     "evalue": "tuple index out of range",
     "output_type": "error",
     "traceback": [
      "\u001b[1;31m---------------------------------------------------------------------------\u001b[0m",
      "\u001b[1;31mIndexError\u001b[0m                                Traceback (most recent call last)",
      "\u001b[1;32m~\\AppData\\Local\\Temp\\ipykernel_23444\\3550076593.py\u001b[0m in \u001b[0;36m<module>\u001b[1;34m\u001b[0m\n\u001b[1;32m----> 1\u001b[1;33m \u001b[0mprint\u001b[0m\u001b[1;33m(\u001b[0m\u001b[0mtup\u001b[0m\u001b[1;33m[\u001b[0m\u001b[1;36m34\u001b[0m\u001b[1;33m]\u001b[0m\u001b[1;33m)\u001b[0m\u001b[1;33m\u001b[0m\u001b[1;33m\u001b[0m\u001b[0m\n\u001b[0m",
      "\u001b[1;31mIndexError\u001b[0m: tuple index out of range"
     ]
    }
   ],
   "source": [
    "print(tup[34])"
   ]
  },
  {
   "cell_type": "markdown",
   "id": "6350368b",
   "metadata": {},
   "source": [
    "# lec 25\n",
    "## operations on tuples in python"
   ]
  },
  {
   "cell_type": "raw",
   "id": "f593d2e0",
   "metadata": {},
   "source": [
    "Manipulating Tuples\n",
    "Tuples are immutable, hence if you want to add, remove or change tuple items, then first you must convert the tuple to a list. Then perform operation on that list and convert it back to tuple.\n",
    "\n",
    "Example:\n",
    "countries = (\"Spain\", \"Italy\", \"India\", \"England\", \"Germany\")\n",
    "temp = list(countries)\n",
    "temp.append(\"Russia\")       #add item \n",
    "temp.pop(3)                 #remove item\n",
    "temp[2] = \"Finland\"         #change item\n",
    "countries = tuple(temp)\n",
    "print(countries)\n",
    "Output:\n",
    "('Spain', 'Italy', 'Finland', 'Germany', 'Russia')\n",
    "Thus, we convert the tuple to a list, manipulate items of the list using list methods, then convert list back to a tuple.\n",
    "\n",
    "However, we can directly concatenate two tuples without converting them to list.\n",
    "\n",
    "Example:\n",
    "countries = (\"Pakistan\", \"Afghanistan\", \"Bangladesh\", \"ShriLanka\")\n",
    "countries2 = (\"Vietnam\", \"India\", \"China\")\n",
    "southEastAsia = countries + countries2\n",
    "print(southEastAsia)\n",
    "Output:\n",
    "('Pakistan', 'Afghanistan', 'Bangladesh', 'ShriLanka', 'Vietnam', 'India', 'China')"
   ]
  },
  {
   "cell_type": "raw",
   "id": "7bc90cf0",
   "metadata": {},
   "source": [
    "Tuple methods\n",
    "As tuple is immutable type of collection of elements it have limited built in methods.They are explained below\n",
    "\n",
    "count() Method\n",
    "The count() method of Tuple returns the number of times the given element appears in the tuple.\n",
    "\n",
    "Syntax:\n",
    "tuple.count(element)\n",
    "Example\n",
    "Tuple1 = (0, 1, 2, 3, 2, 3, 1, 3, 2)\n",
    "res = Tuple1.count(3)\n",
    "print('Count of 3 in Tuple1 is:', res)\n",
    "Output\n",
    "3\n",
    "\n",
    "index() method\n",
    "The Index() method returns the first occurrence of the given element from the tuple.\n",
    "\n",
    "Syntax:\n",
    "tuple.index(element, start, end)\n",
    "Note: This method raises a ValueError if the element is not found in the tuple.\n",
    "\n",
    "Example\n",
    "Tuple = (0, 1, 2, 3, 2, 3, 1, 3, 2)\n",
    "res = Tuple.index(3)\n",
    "print('First occurrence of 3 is', res)\n",
    "Output\n",
    "3"
   ]
  },
  {
   "cell_type": "code",
   "execution_count": 19,
   "id": "4e766a53",
   "metadata": {},
   "outputs": [
    {
     "name": "stdout",
     "output_type": "stream",
     "text": [
      "3\n"
     ]
    }
   ],
   "source": [
    "tuple1 = (0, 1, 2, 3, 2, 31, 1, 3, 2, 3)\n",
    "res = tuple1.count(3)\n",
    "print(res)\n",
    "res = tuple1.index(3)\n",
    "res = tuple1.index(3, 4, 8)"
   ]
  },
  {
   "cell_type": "code",
   "execution_count": 15,
   "id": "db4008ca",
   "metadata": {},
   "outputs": [
    {
     "name": "stdout",
     "output_type": "stream",
     "text": [
      "Count of 3 in tuple1 is: 10\n"
     ]
    }
   ],
   "source": [
    "res = len(tuple1)\n",
    "print('Count of 3 in tuple1 is:', res)"
   ]
  },
  {
   "cell_type": "code",
   "execution_count": 20,
   "id": "08763b1a",
   "metadata": {},
   "outputs": [
    {
     "ename": "ValueError",
     "evalue": "tuple.index(x): x not in tuple",
     "output_type": "error",
     "traceback": [
      "\u001b[1;31m---------------------------------------------------------------------------\u001b[0m",
      "\u001b[1;31mValueError\u001b[0m                                Traceback (most recent call last)",
      "\u001b[1;32m~\\AppData\\Local\\Temp\\ipykernel_23444\\775473202.py\u001b[0m in \u001b[0;36m<module>\u001b[1;34m\u001b[0m\n\u001b[1;32m----> 1\u001b[1;33m \u001b[0mres\u001b[0m \u001b[1;33m=\u001b[0m \u001b[0mtuple1\u001b[0m\u001b[1;33m.\u001b[0m\u001b[0mindex\u001b[0m\u001b[1;33m(\u001b[0m\u001b[1;36m311\u001b[0m\u001b[1;33m)\u001b[0m\u001b[1;33m\u001b[0m\u001b[1;33m\u001b[0m\u001b[0m\n\u001b[0m",
      "\u001b[1;31mValueError\u001b[0m: tuple.index(x): x not in tuple"
     ]
    }
   ],
   "source": [
    "res = tuple1.index(311)"
   ]
  },
  {
   "cell_type": "code",
   "execution_count": null,
   "id": "4bbc9395",
   "metadata": {},
   "outputs": [],
   "source": []
  }
 ],
 "metadata": {
  "kernelspec": {
   "display_name": "Python 3 (ipykernel)",
   "language": "python",
   "name": "python3"
  },
  "language_info": {
   "codemirror_mode": {
    "name": "ipython",
    "version": 3
   },
   "file_extension": ".py",
   "mimetype": "text/x-python",
   "name": "python",
   "nbconvert_exporter": "python",
   "pygments_lexer": "ipython3",
   "version": "3.9.13"
  }
 },
 "nbformat": 4,
 "nbformat_minor": 5
}
