{
 "cells": [
  {
   "cell_type": "markdown",
   "id": "110efd2a",
   "metadata": {},
   "source": [
    "# lec 74\n",
    "## method overriding in python"
   ]
  },
  {
   "cell_type": "markdown",
   "id": "9e01edf1",
   "metadata": {},
   "source": [
    "1. MO is a powerful feature in oop that allows you to redefine a method in a derived class.\n",
    "2. The method in the derived class is said to override the method in the base class.\n",
    "3. When you create an instance of the derived class and call the overridden method, the version of the method in the derived class is executed, rather than the version of the base class."
   ]
  },
  {
   "cell_type": "code",
   "execution_count": 4,
   "id": "15ef93bc",
   "metadata": {},
   "outputs": [
    {
     "data": {
      "text/plain": [
       "30"
      ]
     },
     "execution_count": 4,
     "metadata": {},
     "output_type": "execute_result"
    }
   ],
   "source": [
    "class Shape:\n",
    "    def __init__(self,x,y):\n",
    "        self.x=x\n",
    "        self.y=y\n",
    "    def area(self):\n",
    "        return self.x*self.y\n",
    "rect=Shape(5,6)\n",
    "rect.area()"
   ]
  },
  {
   "cell_type": "code",
   "execution_count": null,
   "id": "666933c0",
   "metadata": {},
   "outputs": [],
   "source": [
    "# now we will define one more object such as circle"
   ]
  },
  {
   "cell_type": "code",
   "execution_count": 5,
   "id": "f8d5414e",
   "metadata": {},
   "outputs": [
    {
     "data": {
      "text/plain": [
       "153.86"
      ]
     },
     "execution_count": 5,
     "metadata": {},
     "output_type": "execute_result"
    }
   ],
   "source": [
    "class Shape:\n",
    "    def __init__(self,x,y):\n",
    "        self.x=x\n",
    "        self.y=y\n",
    "    def area(self):\n",
    "        return self.x*self.y\n",
    "class Circle(Shape):\n",
    "    def __init__(self,radius):\n",
    "        self.radius=radius\n",
    "    def area(self):\n",
    "        return  3.14*self.radius*self.radius\n",
    "c1=Circle(7)\n",
    "c1.area() # here it will go for area in derived class first actually as it exists . simply overrided the area () in parent class"
   ]
  },
  {
   "cell_type": "code",
   "execution_count": 6,
   "id": "70916707",
   "metadata": {},
   "outputs": [
    {
     "ename": "AttributeError",
     "evalue": "'Circle' object has no attribute 'x'",
     "output_type": "error",
     "traceback": [
      "\u001b[1;31m---------------------------------------------------------------------------\u001b[0m",
      "\u001b[1;31mAttributeError\u001b[0m                            Traceback (most recent call last)",
      "\u001b[1;32m~\\AppData\\Local\\Temp\\ipykernel_66516\\1143356983.py\u001b[0m in \u001b[0;36m<module>\u001b[1;34m\u001b[0m\n\u001b[0;32m     11\u001b[0m         \u001b[1;31m#return  3.14*self.radius*self.radius\u001b[0m\u001b[1;33m\u001b[0m\u001b[1;33m\u001b[0m\u001b[0m\n\u001b[0;32m     12\u001b[0m \u001b[0mc1\u001b[0m\u001b[1;33m=\u001b[0m\u001b[0mCircle\u001b[0m\u001b[1;33m(\u001b[0m\u001b[1;36m7\u001b[0m\u001b[1;33m)\u001b[0m\u001b[1;33m\u001b[0m\u001b[1;33m\u001b[0m\u001b[0m\n\u001b[1;32m---> 13\u001b[1;33m \u001b[0mc1\u001b[0m\u001b[1;33m.\u001b[0m\u001b[0marea\u001b[0m\u001b[1;33m(\u001b[0m\u001b[1;33m)\u001b[0m\u001b[1;33m\u001b[0m\u001b[1;33m\u001b[0m\u001b[0m\n\u001b[0m",
      "\u001b[1;32m~\\AppData\\Local\\Temp\\ipykernel_66516\\1143356983.py\u001b[0m in \u001b[0;36marea\u001b[1;34m(self)\u001b[0m\n\u001b[0;32m      4\u001b[0m         \u001b[0mself\u001b[0m\u001b[1;33m.\u001b[0m\u001b[0my\u001b[0m\u001b[1;33m=\u001b[0m\u001b[0my\u001b[0m\u001b[1;33m\u001b[0m\u001b[1;33m\u001b[0m\u001b[0m\n\u001b[0;32m      5\u001b[0m     \u001b[1;32mdef\u001b[0m \u001b[0marea\u001b[0m\u001b[1;33m(\u001b[0m\u001b[0mself\u001b[0m\u001b[1;33m)\u001b[0m\u001b[1;33m:\u001b[0m\u001b[1;33m\u001b[0m\u001b[1;33m\u001b[0m\u001b[0m\n\u001b[1;32m----> 6\u001b[1;33m         \u001b[1;32mreturn\u001b[0m \u001b[0mself\u001b[0m\u001b[1;33m.\u001b[0m\u001b[0mx\u001b[0m\u001b[1;33m*\u001b[0m\u001b[0mself\u001b[0m\u001b[1;33m.\u001b[0m\u001b[0my\u001b[0m\u001b[1;33m\u001b[0m\u001b[1;33m\u001b[0m\u001b[0m\n\u001b[0m\u001b[0;32m      7\u001b[0m \u001b[1;32mclass\u001b[0m \u001b[0mCircle\u001b[0m\u001b[1;33m(\u001b[0m\u001b[0mShape\u001b[0m\u001b[1;33m)\u001b[0m\u001b[1;33m:\u001b[0m\u001b[1;33m\u001b[0m\u001b[1;33m\u001b[0m\u001b[0m\n\u001b[0;32m      8\u001b[0m     \u001b[1;32mdef\u001b[0m \u001b[0m__init__\u001b[0m\u001b[1;33m(\u001b[0m\u001b[0mself\u001b[0m\u001b[1;33m,\u001b[0m\u001b[0mradius\u001b[0m\u001b[1;33m)\u001b[0m\u001b[1;33m:\u001b[0m\u001b[1;33m\u001b[0m\u001b[1;33m\u001b[0m\u001b[0m\n",
      "\u001b[1;31mAttributeError\u001b[0m: 'Circle' object has no attribute 'x'"
     ]
    }
   ],
   "source": [
    "class Shape:\n",
    "    def __init__(self,x,y):\n",
    "        self.x=x\n",
    "        self.y=y\n",
    "    def area(self):\n",
    "        return self.x*self.y\n",
    "class Circle(Shape):\n",
    "    def __init__(self,radius):\n",
    "        self.radius=radius\n",
    "    #def area(self):\n",
    "        #return  3.14*self.radius*self.radius\n",
    "c1=Circle(7) # see here now it went for the area () in parent class but there is no y variable assigned there. \n",
    "c1.area()"
   ]
  },
  {
   "cell_type": "code",
   "execution_count": 11,
   "id": "d8705a89",
   "metadata": {},
   "outputs": [],
   "source": [
    "class Shape:\n",
    "    def __init__(self,x,y):\n",
    "        self.x=x\n",
    "        self.y=y\n",
    "    def area(self):\n",
    "        return self.x*self.y\n",
    "class Circle(Shape):\n",
    "    def __init__(self,radius): # we can aslo use the super() like this and we can execute the program as shown here\n",
    "        super().__init__(radius,radius)\n",
    "    def area(self):\n",
    "        return 3.14*super().area()"
   ]
  },
  {
   "cell_type": "code",
   "execution_count": 12,
   "id": "2f46e937",
   "metadata": {},
   "outputs": [
    {
     "data": {
      "text/plain": [
       "153.86"
      ]
     },
     "execution_count": 12,
     "metadata": {},
     "output_type": "execute_result"
    }
   ],
   "source": [
    "c1=Circle(7) \n",
    "c1.area()"
   ]
  },
  {
   "cell_type": "markdown",
   "id": "c4a39b38",
   "metadata": {},
   "source": [
    "# lec 77 \n",
    "## operator overloading"
   ]
  },
  {
   "cell_type": "markdown",
   "id": "7c53c991",
   "metadata": {},
   "source": [
    "1. Operator overloading is a feature in python that allows developers to redefine the behaviour of mathematical and comparison operators for custom data types.\n",
    "2. This means that you can use the standard mathematical operators and comparison operators in your own classes., justas you would use for built in data types.\n",
    "# Why we need the operator overloading?\n",
    "\n",
    "1. It allows you to create more readable and inituitive code.\n",
    "2. For instance, consider a custom class that represents a point in 2D space. \n",
    "3. You could define a method called \"add\" to add the points together ,but using the + operator makes the code more concise and readable."
   ]
  },
  {
   "cell_type": "code",
   "execution_count": 14,
   "id": "d1849901",
   "metadata": {},
   "outputs": [
    {
     "name": "stdout",
     "output_type": "stream",
     "text": [
      "<__main__.Vector object at 0x000001A9548A28B0>\n"
     ]
    }
   ],
   "source": [
    "class Vector:\n",
    "    def __init__(self,i,j,k):\n",
    "        self.i=i\n",
    "        self.j=j\n",
    "        self.k=k\n",
    "v=Vector(3,4,5)\n",
    "print(v) # gives the object address here"
   ]
  },
  {
   "cell_type": "code",
   "execution_count": 23,
   "id": "e33b0a25",
   "metadata": {},
   "outputs": [],
   "source": [
    "# so we will define the __str__ method for this to give some information about the object\n",
    "class Vector:\n",
    "    def __init__(self,i,j,k):\n",
    "        self.i=i\n",
    "        self.j=j\n",
    "        self.k=k\n",
    "    def __str__(self):\n",
    "        return f\" we are getting the vector object here with its coordinates {self.i}i+{self.j}j+{self.k}k\"\n",
    "v1=Vector(3,4,5)\n"
   ]
  },
  {
   "cell_type": "code",
   "execution_count": 24,
   "id": "0e5aeac1",
   "metadata": {},
   "outputs": [
    {
     "name": "stdout",
     "output_type": "stream",
     "text": [
      " we are getting the vector object here with its coordinates 3i+4j+5k\n"
     ]
    }
   ],
   "source": [
    "print(v1)"
   ]
  },
  {
   "cell_type": "code",
   "execution_count": 25,
   "id": "7fbbe54f",
   "metadata": {},
   "outputs": [],
   "source": [
    "v2=Vector(6,5,4)"
   ]
  },
  {
   "cell_type": "code",
   "execution_count": 26,
   "id": "10b100e1",
   "metadata": {},
   "outputs": [
    {
     "ename": "TypeError",
     "evalue": "unsupported operand type(s) for +: 'Vector' and 'Vector'",
     "output_type": "error",
     "traceback": [
      "\u001b[1;31m---------------------------------------------------------------------------\u001b[0m",
      "\u001b[1;31mTypeError\u001b[0m                                 Traceback (most recent call last)",
      "\u001b[1;32m~\\AppData\\Local\\Temp\\ipykernel_66516\\1877941461.py\u001b[0m in \u001b[0;36m<module>\u001b[1;34m\u001b[0m\n\u001b[1;32m----> 1\u001b[1;33m \u001b[0mprint\u001b[0m\u001b[1;33m(\u001b[0m\u001b[0mv1\u001b[0m\u001b[1;33m+\u001b[0m\u001b[0mv2\u001b[0m\u001b[1;33m)\u001b[0m\u001b[1;33m\u001b[0m\u001b[1;33m\u001b[0m\u001b[0m\n\u001b[0m",
      "\u001b[1;31mTypeError\u001b[0m: unsupported operand type(s) for +: 'Vector' and 'Vector'"
     ]
    }
   ],
   "source": [
    "print(v1+v2)"
   ]
  },
  {
   "cell_type": "code",
   "execution_count": 27,
   "id": "b628ea97",
   "metadata": {},
   "outputs": [
    {
     "ename": "SyntaxError",
     "evalue": "invalid syntax (662649136.py, line 1)",
     "output_type": "error",
     "traceback": [
      "\u001b[1;36m  File \u001b[1;32m\"C:\\Users\\Phanindra Reddy\\AppData\\Local\\Temp\\ipykernel_66516\\662649136.py\"\u001b[1;36m, line \u001b[1;32m1\u001b[0m\n\u001b[1;33m    1. The add method is not defined for this class\u001b[0m\n\u001b[1;37m       ^\u001b[0m\n\u001b[1;31mSyntaxError\u001b[0m\u001b[1;31m:\u001b[0m invalid syntax\n"
     ]
    }
   ],
   "source": [
    "1. The add method is not defined for this class\n",
    "2. So we need to add the vectors using the __add__()\n"
   ]
  },
  {
   "cell_type": "code",
   "execution_count": 31,
   "id": "15bf740f",
   "metadata": {},
   "outputs": [],
   "source": [
    "class Vector:\n",
    "    def __init__(self,i,j,k):\n",
    "        self.i=i\n",
    "        self.j=j\n",
    "        self.k=k\n",
    "    def __add__(self,x): # self is for v1 and x is for v2\n",
    "        return f\"{self.i+x.i}i+{self.j+x.j}j+{self.k+x.k}k\" # the resulting vector will be a string type\n",
    "        \n",
    "    def __str__(self):\n",
    "        return f\" we are getting the vector object here with its coordinates {self.i}i+{self.j}j+{self.k}k\"\n",
    "v1=Vector(3,4,5)\n",
    "v2=Vector(4,5,6)"
   ]
  },
  {
   "cell_type": "code",
   "execution_count": 36,
   "id": "87963cf6",
   "metadata": {},
   "outputs": [
    {
     "name": "stdout",
     "output_type": "stream",
     "text": [
      "7i+9j+11k\n"
     ]
    }
   ],
   "source": [
    "print(v1+v2) # now we are overloading the + operator with these vectors"
   ]
  },
  {
   "cell_type": "code",
   "execution_count": 41,
   "id": "b09772d5",
   "metadata": {},
   "outputs": [
    {
     "data": {
      "text/plain": [
       "str"
      ]
     },
     "execution_count": 41,
     "metadata": {},
     "output_type": "execute_result"
    }
   ],
   "source": [
    "type(v1+v2) # but we want the result to be a vector type here as two vectors results a vector here"
   ]
  },
  {
   "cell_type": "code",
   "execution_count": 45,
   "id": "a501eeb0",
   "metadata": {},
   "outputs": [],
   "source": [
    "# so we will use the Vector constructor here and make the vector\n",
    "# Vector((self.i+x.i),(self.j+x.j),(self.k+x.k))\n",
    "# this line gives Vector(7,9,11) and the vector constructor  is called here so the init is executed and it is assigned to the v1+v2\n",
    "class Vector:\n",
    "    def __init__(self,i,j,k):\n",
    "        self.i=i\n",
    "        self.j=j\n",
    "        self.k=k\n",
    "    def __add__(self,x): # self is for v1 and x is for v2\n",
    "        return Vector((self.i+x.i),(self.j+x.j),(self.k+x.k)) # the resulting vector will be a vector type since the constructor is given here\n",
    "        \n",
    "    def __str__(self):\n",
    "        return f\" we are getting the vector object here with its coordinates {self.i}i+{self.j}j+{self.k}k\"\n",
    "v1=Vector(3,4,5)\n",
    "v2=Vector(4,5,6)\n",
    "v3=v1+v2"
   ]
  },
  {
   "cell_type": "code",
   "execution_count": 46,
   "id": "69edbe50",
   "metadata": {},
   "outputs": [
    {
     "name": "stdout",
     "output_type": "stream",
     "text": [
      " we are getting the vector object here with its coordinates 7i+9j+11k\n"
     ]
    }
   ],
   "source": [
    "print(v1+v2)"
   ]
  },
  {
   "cell_type": "code",
   "execution_count": 47,
   "id": "2bba8899",
   "metadata": {},
   "outputs": [
    {
     "data": {
      "text/plain": [
       "<__main__.Vector at 0x1a954e2c640>"
      ]
     },
     "execution_count": 47,
     "metadata": {},
     "output_type": "execute_result"
    }
   ],
   "source": [
    "v3"
   ]
  },
  {
   "cell_type": "code",
   "execution_count": 49,
   "id": "79890c31",
   "metadata": {},
   "outputs": [
    {
     "name": "stdout",
     "output_type": "stream",
     "text": [
      " we are getting the vector object here with its coordinates 7i+9j+11k\n"
     ]
    }
   ],
   "source": [
    "print(v3) # str is called here"
   ]
  },
  {
   "cell_type": "code",
   "execution_count": null,
   "id": "7645c3d0",
   "metadata": {},
   "outputs": [],
   "source": []
  },
  {
   "cell_type": "markdown",
   "id": "ed63d124",
   "metadata": {},
   "source": [
    "# lec 78\n",
    "## Single inheritance"
   ]
  },
  {
   "cell_type": "markdown",
   "id": "5d140265",
   "metadata": {},
   "source": [
    "1. It is a type of inheritance where  class inherits properties and behaviours from a single parent class."
   ]
  },
  {
   "cell_type": "code",
   "execution_count": 68,
   "id": "8f1a057d",
   "metadata": {},
   "outputs": [
    {
     "name": "stdout",
     "output_type": "stream",
     "text": [
      "BARK is made by tommy\n"
     ]
    }
   ],
   "source": [
    "class animal:\n",
    "    def __init__(self,name,species):\n",
    "        self.name=name\n",
    "        self.species=species\n",
    "    def make_sound(self):\n",
    "        print(\"Sound made by the animal\")\n",
    "        \n",
    "class Dog(animal):\n",
    "    def __init__(self,name,breed,species=\"Dog\"): # no need to write self.name here as it is present in the parent class\n",
    "        animal.__init__(self,name,species=\"Dog\")\n",
    "        self.breed=breed\n",
    "    def make_sound(self):\n",
    "        print(f\"BARK is made by {self.name}\")\n",
    "   \n",
    "d=Dog(\"tommy\",\"hybrid\")\n",
    "d.make_sound()"
   ]
  },
  {
   "cell_type": "code",
   "execution_count": 69,
   "id": "f295258c",
   "metadata": {},
   "outputs": [],
   "source": [
    "a=animal(\"chimpu\",\"cat\")"
   ]
  },
  {
   "cell_type": "code",
   "execution_count": 70,
   "id": "9a693773",
   "metadata": {},
   "outputs": [
    {
     "name": "stdout",
     "output_type": "stream",
     "text": [
      "Sound made by the animal\n"
     ]
    }
   ],
   "source": [
    "a.make_sound()"
   ]
  },
  {
   "cell_type": "markdown",
   "id": "b89a2198",
   "metadata": {},
   "source": [
    "# lec 79\n",
    "## Multiple inheritance"
   ]
  },
  {
   "cell_type": "markdown",
   "id": "564a15e1",
   "metadata": {},
   "source": [
    "It allows a class to inherit attributes and methods from multiple parent classes.\n",
    "This can be useful in situations where a class needs to inherit functionally from multiple sources."
   ]
  },
  {
   "cell_type": "code",
   "execution_count": 84,
   "id": "824a7947",
   "metadata": {},
   "outputs": [
    {
     "name": "stdout",
     "output_type": "stream",
     "text": [
      "<__main__.Danceremployee object at 0x000001A954D1F3D0>\n"
     ]
    }
   ],
   "source": [
    "class Employee:\n",
    "    def __init__(self,name,dance):\n",
    "        self.name=name\n",
    "class Dancer:\n",
    "    def __init__(self,dance):\n",
    "        self.dance=dance\n",
    "class Danceremployee(Employee,Dancer):\n",
    "    def __init__(self,name,dance):\n",
    "        self.name=name\n",
    "        self.dance=dance\n",
    "    def show(self):\n",
    "        print(f\"This employee {self.name} is performing a really good {self.dance} dance\")\n",
    "\n",
    "d1=Danceremployee(\"indra\",\"oora mass\")\n",
    "print(d1)   "
   ]
  },
  {
   "cell_type": "code",
   "execution_count": 85,
   "id": "9fba43d8",
   "metadata": {},
   "outputs": [
    {
     "name": "stdout",
     "output_type": "stream",
     "text": [
      "This employee indra is performing a really good oora mass dance\n"
     ]
    }
   ],
   "source": [
    "d1.show()"
   ]
  },
  {
   "cell_type": "code",
   "execution_count": 88,
   "id": "866443d2",
   "metadata": {},
   "outputs": [
    {
     "name": "stdout",
     "output_type": "stream",
     "text": [
      "This employee name is indra \n"
     ]
    }
   ],
   "source": [
    "class Employee:\n",
    "    def __init__(self,name,dance):\n",
    "        self.name=name\n",
    "    def show(self):\n",
    "        print(f\"This employee name is {self.name} \")\n",
    "\n",
    "class Dancer:\n",
    "    def __init__(self,dance):\n",
    "        self.dance=dance\n",
    "    def show(self):\n",
    "        print(f\"This employee  performing a really good {self.dance} dance\")\n",
    "\n",
    "class Danceremployee(Employee,Dancer):\n",
    "    def __init__(self,name,dance):\n",
    "        self.name=name\n",
    "        self.dance=dance\n",
    "d1=Danceremployee(\"indra\",\"oora mass\") \n",
    "(d1.show())  # now which show is called here "
   ]
  },
  {
   "cell_type": "code",
   "execution_count": 90,
   "id": "48baf342",
   "metadata": {},
   "outputs": [],
   "source": [
    "# MRO-Method Resolution order--> which is given first it will have the highest priority"
   ]
  },
  {
   "cell_type": "code",
   "execution_count": 91,
   "id": "b002bf90",
   "metadata": {},
   "outputs": [
    {
     "data": {
      "text/plain": [
       "[__main__.Danceremployee, __main__.Employee, __main__.Dancer, object]"
      ]
     },
     "execution_count": 91,
     "metadata": {},
     "output_type": "execute_result"
    }
   ],
   "source": [
    "Danceremployee.mro() # mro is a inbuilt method .\n",
    "# it gives the priority of the classes\n"
   ]
  },
  {
   "cell_type": "code",
   "execution_count": 94,
   "id": "3f601be7",
   "metadata": {},
   "outputs": [
    {
     "name": "stdout",
     "output_type": "stream",
     "text": [
      "This employee  performing a really good oora mass dance\n"
     ]
    }
   ],
   "source": [
    "class Danceremployee(Dancer,Employee):\n",
    "    def __init__(self,name,dance):\n",
    "        self.name=name\n",
    "        self.dance=dance\n",
    "d1=Danceremployee(\"indra\",\"oora mass\") \n",
    "d1.show() # now the dance class show is executed here"
   ]
  },
  {
   "cell_type": "markdown",
   "id": "6a1c1211",
   "metadata": {},
   "source": [
    "# lec 80\n",
    "## Multilevel inheritance"
   ]
  },
  {
   "cell_type": "markdown",
   "id": "a5e85690",
   "metadata": {},
   "source": [
    "1. Multilevel inheritance is a type of inheritance in object-oriented programming where a derived class inherits from another derived class.\n",
    "2. This type of inheritance allows you to build a hierarchy of classes where one class builds upon another, leading to a more specialized class.\n",
    "3. In Python, multilevel inheritance is achieved by using the class hierarchy."
   ]
  },
  {
   "cell_type": "code",
   "execution_count": 97,
   "id": "c26f2025",
   "metadata": {},
   "outputs": [
    {
     "name": "stdout",
     "output_type": "stream",
     "text": [
      "Name: tommy\n",
      "Species: Dog\n",
      "Breed: Black\n",
      "[<class '__main__.GoldenRetriever'>, <class '__main__.Dog'>, <class '__main__.Animal'>, <class 'object'>]\n"
     ]
    }
   ],
   "source": [
    "class Animal:\n",
    "    def __init__(self, name, species):\n",
    "        self.name = name\n",
    "        self.species = species\n",
    "        \n",
    "    def show_details(self):\n",
    "        print(f\"Name: {self.name}\")\n",
    "        print(f\"Species: {self.species}\")\n",
    "        \n",
    "class Dog(Animal):\n",
    "    def __init__(self, name, breed):\n",
    "        Animal.__init__(self, name, species=\"Dog\")\n",
    "        self.breed = breed\n",
    "        \n",
    "    def show_details(self):\n",
    "        Animal.show_details(self)\n",
    "        print(f\"Breed: {self.breed}\")\n",
    "        \n",
    "class GoldenRetriever(Dog):\n",
    "    def __init__(self, name, color):\n",
    "        Dog.__init__(self, name, breed=\"Golden Retriever\")\n",
    "        self.color = color\n",
    "        \n",
    "    def show_details(self):\n",
    "        Dog.show_details(self)\n",
    "        print(f\"Color: {self.color}\")\n",
    "\n",
    "o = Dog(\"tommy\", \"Black\")\n",
    "o.show_details()\n",
    "print(GoldenRetriever.mro())"
   ]
  },
  {
   "cell_type": "code",
   "execution_count": null,
   "id": "fe4cc5c6",
   "metadata": {},
   "outputs": [],
   "source": []
  }
 ],
 "metadata": {
  "kernelspec": {
   "display_name": "Python 3 (ipykernel)",
   "language": "python",
   "name": "python3"
  },
  "language_info": {
   "codemirror_mode": {
    "name": "ipython",
    "version": 3
   },
   "file_extension": ".py",
   "mimetype": "text/x-python",
   "name": "python",
   "nbconvert_exporter": "python",
   "pygments_lexer": "ipython3",
   "version": "3.9.13"
  }
 },
 "nbformat": 4,
 "nbformat_minor": 5
}
