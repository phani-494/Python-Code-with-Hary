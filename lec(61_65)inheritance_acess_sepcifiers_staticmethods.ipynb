{
 "cells": [
  {
   "cell_type": "markdown",
   "id": "eb825f68",
   "metadata": {},
   "source": [
    "# day 61\n",
    "## Inheritance in Python"
   ]
  },
  {
   "cell_type": "markdown",
   "id": "aa194cfc",
   "metadata": {},
   "source": [
    "When a class derived from another class (child class), it will inherit all the public and protected properties and methods from the parent class.\n",
    "In addition, it can have it's own properties and methods.\n",
    "This is called as Inheritance.\n"
   ]
  },
  {
   "cell_type": "code",
   "execution_count": 2,
   "id": "e03c4ecd",
   "metadata": {},
   "outputs": [],
   "source": [
    "# After some days the code you developed is need to changed to some other class name.\n",
    "# so wherever the class name is preesent,we need to change in all places\n",
    "# so instead of changing every class name, we will use the inheritance property and create a new class which will be able to access the parent class properties and methods"
   ]
  },
  {
   "cell_type": "code",
   "execution_count": 5,
   "id": "8da0a6b0",
   "metadata": {},
   "outputs": [
    {
     "name": "stdout",
     "output_type": "stream",
     "text": [
      "lucky have 897\n"
     ]
    }
   ],
   "source": [
    "class School:\n",
    "    def __init__(self,name,id):\n",
    "        self.name=name\n",
    "        self.id=id\n",
    "    def info(self):\n",
    "        print(f\"{self.name} have {self.id}\")\n",
    "class student(School):\n",
    "    def getdetails(self):\n",
    "        print(f\"{self.name} is in this school\")\n",
    "sch1=School(\"lucky\",897)\n",
    "sch1.info()"
   ]
  },
  {
   "cell_type": "code",
   "execution_count": 6,
   "id": "cb79c5bb",
   "metadata": {},
   "outputs": [
    {
     "ename": "TypeError",
     "evalue": "__init__() missing 2 required positional arguments: 'name' and 'id'",
     "output_type": "error",
     "traceback": [
      "\u001b[1;31m---------------------------------------------------------------------------\u001b[0m",
      "\u001b[1;31mTypeError\u001b[0m                                 Traceback (most recent call last)",
      "\u001b[1;32m~\\AppData\\Local\\Temp\\ipykernel_58004\\2367240269.py\u001b[0m in \u001b[0;36m<module>\u001b[1;34m\u001b[0m\n\u001b[1;32m----> 1\u001b[1;33m \u001b[0mStud1\u001b[0m\u001b[1;33m=\u001b[0m\u001b[0mstudent\u001b[0m\u001b[1;33m(\u001b[0m\u001b[1;33m)\u001b[0m\u001b[1;33m\u001b[0m\u001b[1;33m\u001b[0m\u001b[0m\n\u001b[0m",
      "\u001b[1;31mTypeError\u001b[0m: __init__() missing 2 required positional arguments: 'name' and 'id'"
     ]
    }
   ],
   "source": [
    "Stud1=student() # we need to give the name and id here"
   ]
  },
  {
   "cell_type": "code",
   "execution_count": 7,
   "id": "6462e927",
   "metadata": {},
   "outputs": [],
   "source": [
    "stud1=student(\"indra\",494)"
   ]
  },
  {
   "cell_type": "code",
   "execution_count": 8,
   "id": "ea43b188",
   "metadata": {},
   "outputs": [
    {
     "name": "stdout",
     "output_type": "stream",
     "text": [
      "indra have 494\n"
     ]
    }
   ],
   "source": [
    "stud1.info()"
   ]
  },
  {
   "cell_type": "code",
   "execution_count": 9,
   "id": "2ce109b2",
   "metadata": {},
   "outputs": [
    {
     "name": "stdout",
     "output_type": "stream",
     "text": [
      "indra is in this school\n"
     ]
    }
   ],
   "source": [
    "stud1.getdetails()"
   ]
  },
  {
   "cell_type": "markdown",
   "id": "cb4e897d",
   "metadata": {},
   "source": [
    "1. First the child object will search the properties and methods if it exists in it\n",
    "2. Else, it will go for the parent class properties and methods\n",
    "3. In student there is no init and info methods. so it will use the school class init and info methods and access them "
   ]
  },
  {
   "cell_type": "code",
   "execution_count": 12,
   "id": "2a2cc7c5",
   "metadata": {},
   "outputs": [
    {
     "ename": "AttributeError",
     "evalue": "'School' object has no attribute 'getdetails'",
     "output_type": "error",
     "traceback": [
      "\u001b[1;31m---------------------------------------------------------------------------\u001b[0m",
      "\u001b[1;31mAttributeError\u001b[0m                            Traceback (most recent call last)",
      "\u001b[1;32m~\\AppData\\Local\\Temp\\ipykernel_58004\\3725201877.py\u001b[0m in \u001b[0;36m<module>\u001b[1;34m\u001b[0m\n\u001b[1;32m----> 1\u001b[1;33m \u001b[0msch1\u001b[0m\u001b[1;33m.\u001b[0m\u001b[0mgetdetails\u001b[0m\u001b[1;33m(\u001b[0m\u001b[1;33m)\u001b[0m \u001b[1;31m# sch1 cannot access the getdetails since it belongs only to the student class here\u001b[0m\u001b[1;33m\u001b[0m\u001b[1;33m\u001b[0m\u001b[0m\n\u001b[0m",
      "\u001b[1;31mAttributeError\u001b[0m: 'School' object has no attribute 'getdetails'"
     ]
    }
   ],
   "source": [
    "sch1.getdetails() # sch1 cannot access the getdetails since it belongs only to the student class here"
   ]
  },
  {
   "cell_type": "code",
   "execution_count": 13,
   "id": "3ef11778",
   "metadata": {},
   "outputs": [
    {
     "name": "stdout",
     "output_type": "stream",
     "text": [
      "indra is in this school\n"
     ]
    }
   ],
   "source": [
    "stud1.getdetails()"
   ]
  },
  {
   "cell_type": "markdown",
   "id": "0a2bef13",
   "metadata": {},
   "source": [
    "# lec 62\n",
    "## Access modifiers in the python"
   ]
  },
  {
   "cell_type": "markdown",
   "id": "e2198b27",
   "metadata": {},
   "source": [
    "1. Access modifiers or access specifiers are used to limit the class variables and class methods outside of the class while implementing the concepts of inheritance.\n",
    "2. Whenever we make a class, then it's variables are by defualt set to public.\n",
    "Types :\n",
    "1. Public\n",
    "2. Private\n",
    "3. Protected"
   ]
  },
  {
   "cell_type": "markdown",
   "id": "31e8f854",
   "metadata": {},
   "source": [
    "## Public access specifier\n",
    "1. All the variables and methods (member functions) in python are by default public.\n",
    "2. Any instance variable in a class followed by the self keyword is public.\n"
   ]
  },
  {
   "cell_type": "markdown",
   "id": "4defb63a",
   "metadata": {},
   "source": [
    "# Private access modifier "
   ]
  },
  {
   "cell_type": "markdown",
   "id": "10ce9b4b",
   "metadata": {},
   "source": [
    "1. These are the members which are only accessible  inside the class.\n",
    "2. We cannot use private members outside of the class.\n",
    "3. We can make a variable or method as private by prefixing the name with _ underscore character. \n",
    "4. This is known as 'weak internal use indicator' and it is convention only ,not a strict rule.\n",
    "5. Code outside the class can still access these \"private\" variables and methods, but it is generally understood that they should not be accessed or modified.\n",
    "6. "
   ]
  },
  {
   "cell_type": "code",
   "execution_count": 21,
   "id": "632147ce",
   "metadata": {},
   "outputs": [
    {
     "ename": "AttributeError",
     "evalue": "'School' object has no attribute '__name'",
     "output_type": "error",
     "traceback": [
      "\u001b[1;31m---------------------------------------------------------------------------\u001b[0m",
      "\u001b[1;31mAttributeError\u001b[0m                            Traceback (most recent call last)",
      "\u001b[1;32m~\\AppData\\Local\\Temp\\ipykernel_58004\\3968545186.py\u001b[0m in \u001b[0;36m<module>\u001b[1;34m\u001b[0m\n\u001b[0;32m      9\u001b[0m         \u001b[0mprint\u001b[0m\u001b[1;33m(\u001b[0m\u001b[1;34mf\"{self.__name} is in this school\"\u001b[0m\u001b[1;33m)\u001b[0m\u001b[1;33m\u001b[0m\u001b[1;33m\u001b[0m\u001b[0m\n\u001b[0;32m     10\u001b[0m \u001b[0msch1\u001b[0m\u001b[1;33m=\u001b[0m\u001b[0mSchool\u001b[0m\u001b[1;33m(\u001b[0m\u001b[1;34m\"lucky\"\u001b[0m\u001b[1;33m,\u001b[0m\u001b[1;36m897\u001b[0m\u001b[1;33m)\u001b[0m\u001b[1;33m\u001b[0m\u001b[1;33m\u001b[0m\u001b[0m\n\u001b[1;32m---> 11\u001b[1;33m \u001b[0msch1\u001b[0m\u001b[1;33m.\u001b[0m\u001b[0m__name\u001b[0m  \u001b[1;31m# we cannot access it since it is private\u001b[0m\u001b[1;33m\u001b[0m\u001b[1;33m\u001b[0m\u001b[0m\n\u001b[0m",
      "\u001b[1;31mAttributeError\u001b[0m: 'School' object has no attribute '__name'"
     ]
    }
   ],
   "source": [
    "class School:\n",
    "    def __init__(self,name,id):\n",
    "        self.__name=name # indicating that it is a private variable\n",
    "        self.__id=id\n",
    "    def info(self):\n",
    "        print(f\"{self.__name} have {self.__id}\")\n",
    "class student(School):\n",
    "    def getdetails(self):\n",
    "        print(f\"{self.__name} is in this school\")\n",
    "sch1=School(\"lucky\",897)\n",
    "sch1.__name  # we cannot access it since it is private "
   ]
  },
  {
   "cell_type": "code",
   "execution_count": 25,
   "id": "99f18d98",
   "metadata": {},
   "outputs": [
    {
     "data": {
      "text/plain": [
       "'lucky'"
      ]
     },
     "execution_count": 25,
     "metadata": {},
     "output_type": "execute_result"
    }
   ],
   "source": [
    "# can be accessed indirectly\n",
    "#Accessing Name Mangled variables\n",
    "#The name mangling process helps to access the class variables from outside the class. The class variables can be accessed by adding _classname to it. The name mangling is closest to private not exactly private.\n",
    "\n",
    "sch1._School__name # accessing the private variable. just give class name with single underscore\n",
    "# the above process is called name mangling in python."
   ]
  },
  {
   "cell_type": "code",
   "execution_count": 26,
   "id": "c6d50828",
   "metadata": {},
   "outputs": [],
   "source": [
    "# In Python,there is no strict concept of \"private access\" modifiers like in other languages.\n",
    "# just a convention has made that it will be a private variable by using __.\n",
    "# but we can still access it outside the class as shown above."
   ]
  },
  {
   "cell_type": "markdown",
   "id": "7c514883",
   "metadata": {},
   "source": [
    "# Name mangling"
   ]
  },
  {
   "cell_type": "markdown",
   "id": "971c5726",
   "metadata": {},
   "source": [
    "1. It is a technique used to protect class-private and super class private attributes from being accidentally overwritten by subclasses.\n",
    "2. Names of class-private and superclass-private attributes are transformed by the addition of a single leading underscore an a double leading undescore respectively."
   ]
  },
  {
   "cell_type": "code",
   "execution_count": 28,
   "id": "04afeef9",
   "metadata": {},
   "outputs": [
    {
     "data": {
      "text/plain": [
       "['_School__name',\n",
       " '_School__id',\n",
       " '__module__',\n",
       " '__init__',\n",
       " 'info',\n",
       " '__dict__',\n",
       " '__weakref__',\n",
       " '__doc__',\n",
       " '__repr__',\n",
       " '__hash__',\n",
       " '__str__',\n",
       " '__getattribute__',\n",
       " '__setattr__',\n",
       " '__delattr__',\n",
       " '__lt__',\n",
       " '__le__',\n",
       " '__eq__',\n",
       " '__ne__',\n",
       " '__gt__',\n",
       " '__ge__',\n",
       " '__new__',\n",
       " '__reduce_ex__',\n",
       " '__reduce__',\n",
       " '__subclasshook__',\n",
       " '__init_subclass__',\n",
       " '__format__',\n",
       " '__sizeof__',\n",
       " '__dir__',\n",
       " '__class__']"
      ]
     },
     "execution_count": 28,
     "metadata": {},
     "output_type": "execute_result"
    }
   ],
   "source": [
    "sch1.__dir__() # gives all the methods and attributes which can be accessed with this object have.\n",
    "# see here we have the _School__name which can be accessed even it is private\n",
    "# if we use __ then mangling will be done"
   ]
  },
  {
   "cell_type": "markdown",
   "id": "64a8b31d",
   "metadata": {},
   "source": [
    "# Protected access modifier"
   ]
  },
  {
   "cell_type": "markdown",
   "id": "99fe32c6",
   "metadata": {},
   "source": [
    "1. The term \"protected\" is used to describe a member (method or attribute) of class that is intended to be accessed by the class itself and it's subclasses.\n",
    "2. The convention for indicating that a member is protected is to prefix it's name with a single underscore (_).\n",
    "3. For example, if a class has a method called _info(), it is indicating that the method should only be accessed by the class itself and it's subclasses.\n",
    "4. It is important to note that the single underscore is just a naming convention and doesn't actually provide any protection or restrict access to the member.\n",
    "5. The syntax we follow to make any variable protected is to write the variable name followed by a single underscore (_)"
   ]
  },
  {
   "cell_type": "code",
   "execution_count": 32,
   "id": "32fb8794",
   "metadata": {},
   "outputs": [],
   "source": [
    "# So in python there is nothing concept like as private protected.\n",
    "# All these are just naming conventions only for our purpose to indicate that the attributes are private or protected"
   ]
  },
  {
   "cell_type": "code",
   "execution_count": 33,
   "id": "280db9fb",
   "metadata": {},
   "outputs": [
    {
     "data": {
      "text/plain": [
       "'lucky'"
      ]
     },
     "execution_count": 33,
     "metadata": {},
     "output_type": "execute_result"
    }
   ],
   "source": [
    "class School:\n",
    "    def __init__(self,name,id):\n",
    "        self._name=name # indicating that it is a protected variable\n",
    "        self._id=id # protected \n",
    "    def _info(self): # protected method\n",
    "        print(f\"{self._name} have {self._id}\")\n",
    "class student(School):\n",
    "    def _getdetails(self):\n",
    "        print(f\"{self._name} is in this school\")\n",
    "sch1=School(\"lucky\",897)\n",
    "sch1._name"
   ]
  },
  {
   "cell_type": "code",
   "execution_count": 34,
   "id": "1ce4679f",
   "metadata": {},
   "outputs": [
    {
     "name": "stdout",
     "output_type": "stream",
     "text": [
      "['__class__', '__delattr__', '__dict__', '__dir__', '__doc__', '__eq__', '__format__', '__ge__', '__getattribute__', '__gt__', '__hash__', '__init__', '__init_subclass__', '__le__', '__lt__', '__module__', '__ne__', '__new__', '__reduce__', '__reduce_ex__', '__repr__', '__setattr__', '__sizeof__', '__str__', '__subclasshook__', '__weakref__', '_id', '_info', '_name']\n"
     ]
    }
   ],
   "source": [
    "print(dir(sch1))"
   ]
  },
  {
   "cell_type": "code",
   "execution_count": 35,
   "id": "b7c132cf",
   "metadata": {},
   "outputs": [],
   "source": [
    "# here we have _name as seen in last\n",
    "## the convention here all is adopted "
   ]
  },
  {
   "cell_type": "code",
   "execution_count": 36,
   "id": "ddfeec79",
   "metadata": {},
   "outputs": [],
   "source": [
    "# if you __ then mangling will be done"
   ]
  },
  {
   "cell_type": "markdown",
   "id": "2abd97c0",
   "metadata": {},
   "source": [
    "In name mangling process any identifier with two leading underscore and one trailing underscore is textually replaced with _classname__identifier where classname is the name of the current class. It means that any identifier of the form __geek (at least two leading underscores or at most one trailing underscore) is replaced with _classname__geek, where classname is the current class name with leading underscore(s) stripped.\n",
    "\n",
    "Name mangling process\n",
    "With the help of dir() method, we can see the name mangling process that is done to the class variable. The name mangling process was done by the Interpreter. The dir() method is used by passing the class object and it will return all valid attributes that belong to that object.\n",
    "\n",
    "Accessing Name Mangled variables\n",
    "The name mangling process helps to access the class variables from outside the class. The class variables can be accessed by adding _classname to it. The name mangling is closest to private not exactly private."
   ]
  },
  {
   "cell_type": "markdown",
   "id": "a29e97d6",
   "metadata": {},
   "source": [
    "# lec 65\n",
    "## static methods\n",
    "1. 63,64 are practice programs"
   ]
  },
  {
   "cell_type": "code",
   "execution_count": 38,
   "id": "f6c7193d",
   "metadata": {},
   "outputs": [
    {
     "name": "stdout",
     "output_type": "stream",
     "text": [
      "lucky have 897\n"
     ]
    }
   ],
   "source": [
    "class School:\n",
    "    def __init__(self,name,id):\n",
    "        self.name=name\n",
    "        self.id=id\n",
    "    def info(self):\n",
    "        print(f\"{self.name} have {self.id}\")\n",
    "    @staticmethod # no self argument is required for the static method.\n",
    "    def add(a,b):\n",
    "        return a+b\n",
    "class student(School):\n",
    "    def getdetails(self):\n",
    "        print(f\"{self.name} is in this school\")\n",
    "sch1=School(\"lucky\",897)\n"
   ]
  },
  {
   "cell_type": "code",
   "execution_count": 41,
   "id": "9a84c963",
   "metadata": {},
   "outputs": [
    {
     "data": {
      "text/plain": [
       "165"
      ]
     },
     "execution_count": 41,
     "metadata": {},
     "output_type": "execute_result"
    }
   ],
   "source": [
    "School.add(87,78)"
   ]
  },
  {
   "cell_type": "markdown",
   "id": "99f7f7a9",
   "metadata": {},
   "source": [
    "1. Static methods are methods that belong to a class rather than instance of a class.\n",
    "2. They are defined using the @staticmethod decorator and do not have access to the instance of the class(i.e, self)\n",
    "3. They are called on the class itself ,not on an instance of the class .\n",
    "4. Static methods are used to create utility functions that don't need access to instance data.\n",
    "5. The main advantage of associating this method with class is: when someone imports this class at that time they can use this static method also.\n"
   ]
  },
  {
   "cell_type": "code",
   "execution_count": null,
   "id": "94422306",
   "metadata": {},
   "outputs": [],
   "source": []
  }
 ],
 "metadata": {
  "kernelspec": {
   "display_name": "Python 3 (ipykernel)",
   "language": "python",
   "name": "python3"
  },
  "language_info": {
   "codemirror_mode": {
    "name": "ipython",
    "version": 3
   },
   "file_extension": ".py",
   "mimetype": "text/x-python",
   "name": "python",
   "nbconvert_exporter": "python",
   "pygments_lexer": "ipython3",
   "version": "3.9.13"
  }
 },
 "nbformat": 4,
 "nbformat_minor": 5
}
