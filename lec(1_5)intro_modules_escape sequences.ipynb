{
 "cells": [
  {
   "cell_type": "markdown",
   "id": "ad7f83a0",
   "metadata": {},
   "source": [
    "# lec 1\n",
    "## Introduction to python programming\n"
   ]
  },
  {
   "cell_type": "markdown",
   "id": "b6d28e00",
   "metadata": {},
   "source": [
    " # What is Programming\n",
    "1. Programming is a way for us to tell computers what to do.\n",
    "2. Computer is a very dumb machine and it only does what we tell it to do.\n",
    "3. Hence we learn programming and tell computers to do what we are very slow at - computation. \n",
    "4. If I ask you to calculate 5+6, you will immediately say 11. How about complex calculations such as 765432*7654378?\n",
    "5. To talk with a computer we need a language simply a programming language.\n"
   ]
  },
  {
   "cell_type": "markdown",
   "id": "55417b24",
   "metadata": {},
   "source": [
    " # What is Python?\n",
    "1. Python is a dynamically typed, general purpose programming language that supports an object-oriented programming approach as well as a functional programming approach.\n",
    "2. Python is an interpreted and a high-level programming language.It was created by Guido Van Rossum in 1989."
   ]
  },
  {
   "cell_type": "markdown",
   "id": "03be2067",
   "metadata": {},
   "source": [
    " # Features of Python\n",
    "1. Python is simple and easy to understand.It is Interpreted and platform-independent which makes debugging very easy.\n",
    "2. Python is an open-source programming language.\n",
    "3. Python provides very big library support. Some of the popular libraries include NumPy, Tensorflow, Selenium, OpenCV, etc.\n",
    "4. It is possible to integrate other programming languages within python."
   ]
  },
  {
   "cell_type": "markdown",
   "id": "4701756c",
   "metadata": {},
   "source": [
    " # What is Python used for?\n",
    "1. Python is used in Data Visualization to create plots and graphical representations.\n",
    "2. Python helps in Data Analytics to analyze and understand raw data for insights and trends.\n",
    "3. It is used in AI and Machine Learning to simulate human behavior and to learn from past data without hard coding.\n",
    "4. It is used to create web applications.It can be used to handle databases.\n",
    "5. It is used in business and accounting to perform complex mathematical operations along with quantitative and qualitative analysis."
   ]
  },
  {
   "cell_type": "markdown",
   "id": "03aa3521",
   "metadata": {},
   "source": [
    "# lec 2\n",
    "## some amazing python programs- The power of python"
   ]
  },
  {
   "cell_type": "markdown",
   "id": "8e9f5843",
   "metadata": {},
   "source": [
    "1. Using python we can create many video games ,user interfaces and also able to complex calculations"
   ]
  },
  {
   "cell_type": "markdown",
   "id": "6458e706",
   "metadata": {},
   "source": [
    "# lec 3\n",
    "## Modules and pip "
   ]
  },
  {
   "cell_type": "markdown",
   "id": "6d8eec32",
   "metadata": {},
   "source": [
    "1. Modules are used to borrow someone else's code, which means you can use others code in your program with the help of modules.\n",
    "2. We use modules because we don't want to code basics programs from scratch.\n",
    "3. The code written in modules is well tested and written  by experts.\n",
    "4. Modules helps us to save our lot of time and efforts when we work on big projects."
   ]
  },
  {
   "cell_type": "code",
   "execution_count": 2,
   "id": "40111c98",
   "metadata": {},
   "outputs": [],
   "source": [
    "import pandas"
   ]
  },
  {
   "cell_type": "markdown",
   "id": "79f5f402",
   "metadata": {},
   "source": [
    "1. Pip is a package manager which installs whatever the module you ask from the internet in your python interpreter.\n",
    " \n",
    " Module is like a code library which can be used to borrow code written by somebody else in our python program. There are two types of modules in python:\n",
    "\n",
    "2. Built in Modules - These modules are ready to import and use and ships with the python interpreter. there is no need to install such modules explicitly.\n",
    "\n",
    "3. External Modules - These modules are imported from a third party file or can be installed using a package manager like pip or conda. Since this code is written by someone else, we can install different versions of a same module with time.\n",
    "\n",
    "\n",
    "The pip command\n",
    "\n",
    "\n",
    "4. It can be used as a package manager pip to install a python module. Lets install a module called pandas using the following command\n",
    "\n",
    "pip install pandas\n",
    "\n",
    "\n",
    "Using a module in Python (Usage)\n",
    "We use the import syntax to import a module in Python. Here is an example code:\n",
    "\n",
    "import pandas\n",
    "\n",
    "# Read and work with a file named 'words.csv'\n",
    "df = pandas.read_csv('words.csv')\n",
    "\n",
    "print(df) \n",
    "# This will display first few rows from the words.csv file"
   ]
  },
  {
   "cell_type": "code",
   "execution_count": 3,
   "id": "7e1dd6bb",
   "metadata": {},
   "outputs": [],
   "source": [
    "# REPL---> Read Evaluate Print Loop"
   ]
  },
  {
   "cell_type": "code",
   "execution_count": 7,
   "id": "b68dbd1b",
   "metadata": {},
   "outputs": [
    {
     "name": "stdout",
     "output_type": "stream",
     "text": [
      "Hi\n"
     ]
    }
   ],
   "source": [
    "import pandas\n",
    "print(\"Hi\")"
   ]
  },
  {
   "cell_type": "code",
   "execution_count": 10,
   "id": "d0de17fb",
   "metadata": {},
   "outputs": [],
   "source": [
    "# to install any python package in cmd\n",
    "# use as pip install package_name"
   ]
  },
  {
   "cell_type": "markdown",
   "id": "65556bea",
   "metadata": {},
   "source": [
    "# lec 4\n",
    "## Our first python program"
   ]
  },
  {
   "cell_type": "code",
   "execution_count": 11,
   "id": "ddbe8822",
   "metadata": {},
   "outputs": [
    {
     "ename": "SyntaxError",
     "evalue": "invalid syntax (3330496850.py, line 1)",
     "output_type": "error",
     "traceback": [
      "\u001b[1;36m  File \u001b[1;32m\"C:\\Users\\Phanindra Reddy\\AppData\\Local\\Temp\\ipykernel_3048\\3330496850.py\"\u001b[1;36m, line \u001b[1;32m1\u001b[0m\n\u001b[1;33m    print(Hello world) # gives error since it is not an valid object\u001b[0m\n\u001b[1;37m                ^\u001b[0m\n\u001b[1;31mSyntaxError\u001b[0m\u001b[1;31m:\u001b[0m invalid syntax\n"
     ]
    }
   ],
   "source": [
    "print(Hello world) # gives error since it is not an valid object"
   ]
  },
  {
   "cell_type": "code",
   "execution_count": 12,
   "id": "b9a4d072",
   "metadata": {},
   "outputs": [
    {
     "name": "stdout",
     "output_type": "stream",
     "text": [
      "Hello world\n"
     ]
    }
   ],
   "source": [
    "print(\"Hello world\") # since it is a valid datatype python knows it is string datatype. So the output is printed."
   ]
  },
  {
   "cell_type": "code",
   "execution_count": 14,
   "id": "9d11185b",
   "metadata": {},
   "outputs": [
    {
     "name": "stdout",
     "output_type": "stream",
     "text": [
      "5 indra\n"
     ]
    }
   ],
   "source": [
    "print(5,\"indra\")"
   ]
  },
  {
   "cell_type": "code",
   "execution_count": 15,
   "id": "1e5bfeef",
   "metadata": {},
   "outputs": [
    {
     "name": "stdout",
     "output_type": "stream",
     "text": [
      "9000\n"
     ]
    }
   ],
   "source": [
    "print(100*90)"
   ]
  },
  {
   "cell_type": "markdown",
   "id": "3a2a5e56",
   "metadata": {},
   "source": [
    "# lec 5\n",
    "## Escape sequences"
   ]
  },
  {
   "cell_type": "code",
   "execution_count": 1,
   "id": "6defd4ad",
   "metadata": {},
   "outputs": [
    {
     "ename": "SyntaxError",
     "evalue": "EOL while scanning string literal (3239041978.py, line 1)",
     "output_type": "error",
     "traceback": [
      "\u001b[1;36m  File \u001b[1;32m\"C:\\Users\\Phanindra Reddy\\AppData\\Local\\Temp\\ipykernel_19480\\3239041978.py\"\u001b[1;36m, line \u001b[1;32m1\u001b[0m\n\u001b[1;33m    print(\"Hey I am a Data Scientist\u001b[0m\n\u001b[1;37m                                    ^\u001b[0m\n\u001b[1;31mSyntaxError\u001b[0m\u001b[1;31m:\u001b[0m EOL while scanning string literal\n"
     ]
    }
   ],
   "source": [
    "print(\"Hey I am a Data Scientist\n",
    "      I can do anything with data\")"
   ]
  },
  {
   "cell_type": "code",
   "execution_count": 3,
   "id": "e035c174",
   "metadata": {},
   "outputs": [
    {
     "name": "stdout",
     "output_type": "stream",
     "text": [
      "Hey I am a Data Scientist\n",
      "I can do anything with data\n"
     ]
    }
   ],
   "source": [
    "# whenever u want a multiline output then you have to use escape sequence \\n which helps u to enter new line.\n",
    "print(\"Hey I am a Data Scientist\\nI can do anything with data\")"
   ]
  },
  {
   "cell_type": "markdown",
   "id": "c617b4d2",
   "metadata": {},
   "source": [
    " ## ctrl+ forward slash / will turn all the selected lines into the comments"
   ]
  },
  {
   "cell_type": "code",
   "execution_count": 5,
   "id": "780ef551",
   "metadata": {},
   "outputs": [
    {
     "name": "stdout",
     "output_type": "stream",
     "text": [
      "Hey guys\n",
      " you are really cool\n",
      " literally u guys are all the best every time\n",
      " lets rock it bros\n"
     ]
    }
   ],
   "source": [
    "print(\"\"\"Hey guys\n",
    " you are really cool\n",
    " literally u guys are all the best every time\n",
    " lets rock it bros\"\"\")"
   ]
  },
  {
   "cell_type": "code",
   "execution_count": 6,
   "id": "2ebae3fe",
   "metadata": {},
   "outputs": [
    {
     "ename": "SyntaxError",
     "evalue": "invalid syntax (1799330022.py, line 2)",
     "output_type": "error",
     "traceback": [
      "\u001b[1;36m  File \u001b[1;32m\"C:\\Users\\Phanindra Reddy\\AppData\\Local\\Temp\\ipykernel_19480\\1799330022.py\"\u001b[1;36m, line \u001b[1;32m2\u001b[0m\n\u001b[1;33m    print(\"Hey i am a good father\"s in the world\")\u001b[0m\n\u001b[1;37m                                  ^\u001b[0m\n\u001b[1;31mSyntaxError\u001b[0m\u001b[1;31m:\u001b[0m invalid syntax\n"
     ]
    }
   ],
   "source": [
    "# double quote escape sequence character\n",
    "print(\"Hey i am a good father\"s in the world\")"
   ]
  },
  {
   "cell_type": "code",
   "execution_count": 7,
   "id": "ad0d8940",
   "metadata": {},
   "outputs": [
    {
     "name": "stdout",
     "output_type": "stream",
     "text": [
      "Hey i am a good father\"s in the world\n"
     ]
    }
   ],
   "source": [
    "print(\"Hey i am a good father\\\"s in the world\") # we have to use the escape sequence charcater "
   ]
  },
  {
   "cell_type": "code",
   "execution_count": 9,
   "id": "00cce527",
   "metadata": {},
   "outputs": [
    {
     "name": "stdout",
     "output_type": "stream",
     "text": [
      "Oh yeah \\ you are good\n"
     ]
    }
   ],
   "source": [
    "print(\"Oh yeah \\\\ you are good\") # to print backward slash use \\\\"
   ]
  },
  {
   "cell_type": "code",
   "execution_count": 11,
   "id": "bcf18465",
   "metadata": {},
   "outputs": [
    {
     "name": "stdout",
     "output_type": "stream",
     "text": [
      "4$indra$luckybye"
     ]
    }
   ],
   "source": [
    "print(4,\"indra\",\"lucky\",sep=\"$\",end=\"bye\")"
   ]
  },
  {
   "cell_type": "code",
   "execution_count": 13,
   "id": "d639640f",
   "metadata": {},
   "outputs": [
    {
     "name": "stdout",
     "output_type": "stream",
     "text": [
      "4~ indra~ luckybye\n"
     ]
    }
   ],
   "source": [
    "print(4,\"indra\",\"lucky\",sep=\"~ \",end=\"bye\\n\")"
   ]
  },
  {
   "cell_type": "markdown",
   "id": "1e583b47",
   "metadata": {},
   "source": [
    "# Python Comments\n",
    "1. A comment is a part of the coding file that the programmer does not want to execute, rather the programmer uses it to either explain a block of code or to avoid the execution of a specific part of code while testing.\n",
    "\n",
    "\n",
    "Single-Line Comments:\n",
    "To write a comment just add a ‘#’ at the start of the line.\n",
    "\n",
    "Example 1\n",
    "#This is a 'Single-Line Comment'\n",
    "print(\"This is a print statement.\")\n",
    "Output:\n",
    "\n",
    "This is a print statement.\n",
    "Example 2\n",
    "print(\"Hello World !!!\") #Printing Hello World\n",
    "Output:\n",
    "\n",
    "Hello World !!!\n",
    "Example 3:\n",
    "print(\"Python Program\")\n",
    "#print(\"Python Program\")\n",
    "\n",
    "\n",
    "Output:\n",
    "Python Program\n",
    "Multi-Line Comments:\n",
    "To write multi-line comments you can use ‘#’ at each line or you can use the multiline string.\n",
    "\n",
    "Example 1: The use of ‘#’.\n",
    "\n",
    "#It will execute a block of code if a specified condition is true.\n",
    "#If the condition is false then it will execute another block of code.\n",
    "p = 7\n",
    "if (p > 5):\n",
    "    print(\"p is greater than 5.\")\n",
    "else:\n",
    "    print(\"p is not greater than 5.\")\n",
    "Output:\n",
    "\n",
    "p is greater than 5.\n",
    "Example 2: The use of multiline string.\n",
    "\n",
    "\"\"\"This is an if-else statement.\n",
    "It will execute a block of code if a specified condition is true.\n",
    "If the condition is false then it will execute another block of code.\"\"\"\n",
    "p = 7\n",
    "if (p > 5):\n",
    "    print(\"p is greater than 5.\")\n",
    "else:\n",
    "    print(\"p is not greater than 5.\")\n",
    "Output\n",
    "p is greater than 5.\n",
    "\n",
    "\n",
    "## Escape Sequence Characters\n",
    "1. To insert characters that cannot be directly used in a string, we use an escape sequence character.\n",
    "\n",
    "2. An escape sequence character is a backslash \\ followed by the character you want to insert.\n",
    "\n",
    "3. An example of a character that cannot be directly used in a string is a double quote inside a string that is surrounded by double quotes:\n",
    "\n",
    "print(\"This doesnt \"execute\")\n",
    "print(\"This will \\\" execute\")\n",
    "\n",
    "\n",
    "## More on Print statement\n",
    "The syntax of a print statement looks something like this:\n",
    "\n",
    "print(object(s), sep=separator, end=end, file=file, flush=flush)\n",
    "Other Parameters of Print Statement\n",
    "object(s): Any object, and as many as you like. Will be converted to string before printed\n",
    "sep='separator': Specify how to separate the objects, if there is more than one. Default is ' '\n",
    "end='end': Specify what to print at the end. Default is '\\n' (line feed)\n",
    "file: An object with a write method. Default is sys.stdout\n",
    "Parameters 2 to 4 are optional"
   ]
  },
  {
   "cell_type": "code",
   "execution_count": null,
   "id": "e05524dd",
   "metadata": {},
   "outputs": [],
   "source": []
  }
 ],
 "metadata": {
  "kernelspec": {
   "display_name": "Python 3 (ipykernel)",
   "language": "python",
   "name": "python3"
  },
  "language_info": {
   "codemirror_mode": {
    "name": "ipython",
    "version": 3
   },
   "file_extension": ".py",
   "mimetype": "text/x-python",
   "name": "python",
   "nbconvert_exporter": "python",
   "pygments_lexer": "ipython3",
   "version": "3.9.13"
  }
 },
 "nbformat": 4,
 "nbformat_minor": 5
}
