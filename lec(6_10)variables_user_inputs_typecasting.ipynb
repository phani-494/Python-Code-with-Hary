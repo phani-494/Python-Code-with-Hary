{
 "cells": [
  {
   "cell_type": "markdown",
   "id": "2c1c220d",
   "metadata": {},
   "source": [
    "# lec 6\n",
    "##  variables and data types"
   ]
  },
  {
   "cell_type": "markdown",
   "id": "61eadb8c",
   "metadata": {},
   "source": [
    "1. What is a variable?\n",
    "\n",
    "Variable is like a container that holds data. Very similar to how our containers in kitchen holds sugar, salt etc .\n",
    "\n",
    "\n",
    "   Creating a variable is like creating a placeholder in memory and assigning it some value. In Python its as easy as writing:\n",
    "\n",
    "a = 1\n",
    "\n",
    "b = True\n",
    "\n",
    "c = \"Harry\"\n",
    "\n",
    "d = None\n",
    "\n",
    "These are four variables of different data types.\n",
    "\n",
    "2. What is a Data Type?\n",
    "  \n",
    "  Data type specifies the type of value a variable holds.\n",
    "  This is required in programming to do various operations without causing an error.\n",
    "  \n",
    "In python, we can print the type of any operator using type function:\n",
    "\n",
    "a = 1\n",
    "print(type(a))\n",
    "b = \"1\"\n",
    "print(type(b))\n",
    "\n",
    "By default, python provides the following built-in data types:\n",
    "\n",
    "1. Numeric data: int, float, complex\n",
    "int: 3, -8, 0\n",
    "float: 7.349, -9.0, 0.0000001\n",
    "complex: 6 + 2i\n",
    "\n",
    "2. Text data: str\n",
    "str: \"Hello World!!!\", \"Python Programming\"\n",
    "\n",
    "3. Boolean data:\n",
    "Boolean data consists of values True or False.\n",
    "\n",
    "4. Sequenced data: list, tuple\n",
    "\n",
    "list: A list is an ordered collection of data with elements separated by a comma and enclosed within square brackets. \n",
    "Lists are mutable and can be modified after creation.\n",
    "\n",
    "Example:\n",
    "\n",
    "list1 = [8, 2.3, [-4, 5], [\"apple\", \"banana\"]]\n",
    "print(list1)\n",
    "\n",
    "Output:\n",
    "\n",
    "[8, 2.3, [-4, 5], ['apple', 'banana']]\n",
    "\n",
    " Tuple: \n",
    "\n",
    "A tuple is an ordered collection of data with elements separated by a comma and enclosed within parentheses.\n",
    "\n",
    "Tuples are immutable and can not be modified after creation.\n",
    "\n",
    "Example:\n",
    "\n",
    "tuple1 = ((\"parrot\", \"sparrow\"), (\"Lion\", \"Tiger\"))\n",
    "print(tuple1)\n",
    "Output:\n",
    "\n",
    "(('parrot', 'sparrow'), ('Lion', 'Tiger'))\n",
    "\n",
    "\n",
    "5. Mapped data: dict\n",
    "dict:  A dictionary is an unordered collection of data containing a key:value pair.\n",
    "The key:value pairs are enclosed within curly brackets.\n",
    "\n",
    "Example:\n",
    "\n",
    "dict1 = {\"name\":\"Sakshi\", \"age\":20, \"canVote\":True}\n",
    "print(dict1)\n",
    "Output:\n",
    "\n",
    "{'name': 'Sakshi', 'age': 20, 'canVote': True}"
   ]
  },
  {
   "cell_type": "code",
   "execution_count": 1,
   "id": "d90a58fe",
   "metadata": {},
   "outputs": [
    {
     "name": "stdout",
     "output_type": "stream",
     "text": [
      "(8+2j)\n",
      "True\n",
      "(17+2j)\n",
      "The type of a is  <class 'complex'>\n",
      "The type of b is  <class 'bool'>\n",
      "The type of c is  <class 'str'>\n",
      "[8, 2.3, [-4, 5], ['apple', 'banana']]\n",
      "(('parrot', 'sparrow'), ('Lion', 'Tiger'))\n",
      "{'name': 'Sakshi', 'age': 20, 'canVote': True}\n"
     ]
    }
   ],
   "source": [
    "a = complex(8, 2)\n",
    "b = True\n",
    "c = \"Harry\"\n",
    "d = None\n",
    "print(a)\n",
    "print(b)\n",
    "a1 = 9\n",
    "print(a + a1)\n",
    "print(\"The type of a is \", type(a))\n",
    "print(\"The type of b is \", type(b))\n",
    "print(\"The type of c is \", type(c))\n",
    "\n",
    "\n",
    "list1 = [8, 2.3, [-4, 5], [\"apple\", \"banana\"]]\n",
    "print(list1)\n",
    "\n",
    "tuple1 = ((\"parrot\", \"sparrow\"), (\"Lion\", \"Tiger\"))\n",
    "print(tuple1)\n",
    "\n",
    "dict1 = {\"name\":\"Sakshi\", \"age\":20, \"canVote\":True}\n",
    "print(dict1)"
   ]
  },
  {
   "cell_type": "markdown",
   "id": "73cf1a87",
   "metadata": {},
   "source": [
    "# lec 7\n",
    "## exercise 1: calculator using python"
   ]
  },
  {
   "cell_type": "markdown",
   "id": "bfa96e3f",
   "metadata": {},
   "source": [
    "Create a calculator capable of performing addition, subtraction, multiplication and division operations on two numbers. \n",
    "Your program should format the output in a readable manner!"
   ]
  },
  {
   "cell_type": "markdown",
   "id": "07fbf255",
   "metadata": {},
   "source": [
    "# lec 8\n",
    "## calculator using python solution"
   ]
  },
  {
   "cell_type": "code",
   "execution_count": 5,
   "id": "14db9e46",
   "metadata": {},
   "outputs": [
    {
     "name": "stdout",
     "output_type": "stream",
     "text": [
      "Enter value of a:89\n",
      "Enter value of b:90\n",
      "The value of 89 + 90 is:  179\n",
      "The value of 89 - 90 is:  -1\n",
      "The value of 89 * 90 is:  8010\n",
      "The value of 89 / 90 is:  0.9888888888888889\n"
     ]
    }
   ],
   "source": [
    "a = int(input(\"Enter value of a:\"))\n",
    "b = int(input(\"Enter value of b:\"))\n",
    "\n",
    "print(\"The value of\", a, \"+\", b, \"is: \", a + b)\n",
    "print(\"The value of\", a, \"-\", b, \"is: \", a - b)\n",
    "print(\"The value of\", a, \"*\", b, \"is: \", a * b)\n",
    "print(\"The value of\", a, \"/\", b, \"is: \", a / b)"
   ]
  },
  {
   "cell_type": "markdown",
   "id": "e0b4e023",
   "metadata": {},
   "source": [
    "# lec 9\n",
    "## Typecasting in python"
   ]
  },
  {
   "cell_type": "markdown",
   "id": "947fad0b",
   "metadata": {},
   "source": [
    "# Typecasting in python\n",
    "The conversion of one data type into the other data type is known as type casting in python or type conversion in python.\n",
    "\n",
    "\n",
    "Python supports a wide variety of functions or methods like: int(), float(), str(), ord(), hex(), oct(), tuple(), set(), list(), dict(), etc. for the type casting in python.\n",
    "\n",
    "Two Types of Typecasting:\n",
    "\n",
    "1. Explicit Conversion (Explicit type casting in python)\n",
    "2. Implicit Conversion (Implicit type casting in python).\n",
    "\n",
    "1. Explicit typecasting:\n",
    "The conversion of one data type into another data type, done via developer or programmer's intervention or manually as per the requirement, is known as explicit type conversion.\n",
    "\n",
    "It can be achieved with the help of Python’s built-in type conversion functions such as int(), float(), hex(), oct(), str(), etc .\n",
    "\n",
    "Example of explicit typecasting:\n",
    "\n",
    "string = \"15\"\n",
    "number = 7\n",
    "string_number = int(string) #throws an error if the string is not a valid integer\n",
    "sum= number + string_number\n",
    "print(\"The Sum of both the numbers is: \", sum)\n",
    "\n",
    "Output:\n",
    "\n",
    "The Sum of both the numbers is 22\n",
    "\n",
    "2. Implicit type casting:\n",
    "\n",
    "  Data types in Python do not have the same level i.e. ordering of data types is not the same in Python.\n",
    "  \n",
    "  Some of the data types have higher-order, and some have lower order. While performing any operations on variables with different data types in Python, one of the variable's data types will be changed to the higher data type.\n",
    "  \n",
    "  According to the level, one data type is converted into other by the Python interpreter itself (automatically). This is called, implicit typecasting in python.\n",
    "\n",
    "Python converts a smaller data type to a higher data type to prevent data loss.\n",
    "\n",
    "Example of implicit type casting:\n",
    "\n",
    " Python automatically converts a to int\n",
    " \n",
    "a = 7\n",
    "print(type(a))\n",
    " \n",
    " Python automatically converts b to float\n",
    " \n",
    "b = 3.0\n",
    "print(type(b))\n",
    " \n",
    "# Python automatically converts c to float as it is a float addition\n",
    "c = a + b\n",
    "print(c)\n",
    "\n",
    "print(type(c))\n",
    "\n",
    "\n",
    "Ouput:\n",
    "<class 'int'>\n",
    "<class 'float'>\n",
    "10.0\n",
    "<class 'float'>"
   ]
  },
  {
   "cell_type": "markdown",
   "id": "f49db433",
   "metadata": {},
   "source": [
    "# lec 10\n",
    "## Taking user input "
   ]
  },
  {
   "cell_type": "markdown",
   "id": "7848a161",
   "metadata": {},
   "source": [
    "1. In python, we can take user input directly by using input() function.This input function gives a return value as string/character hence we have to pass that into a variable\n",
    "\n",
    "\n",
    "Syntax:\n",
    "\n",
    "variable=input() \n",
    "\n",
    "But input function returns the value as string. Hence we have to typecast them whenever required to another datatype.\n",
    "\n",
    "Example:\n",
    "\n",
    "variable=int(input())\n",
    "variable=float(input())\n",
    "\n",
    "We can also display a text using input function.\n",
    "This will make input() function take user input and display a message as well\n",
    "\n",
    "Example:\n",
    "\n",
    "a=input(\"Enter the name: \")\n",
    "\n",
    "print(a)\n",
    "\n",
    "Output:\n",
    "\n",
    "Enter the name: Harry\n",
    "\n",
    "Harry"
   ]
  },
  {
   "cell_type": "code",
   "execution_count": null,
   "id": "3877ad4f",
   "metadata": {},
   "outputs": [],
   "source": [
    "a = input(\"Enter your name: \")\n",
    "print(\"My name is\", a)\n",
    "\n",
    "x = input(\"Enter first number: \")\n",
    "y = input(\"Enter second number: \")\n",
    "print(x  + y) # string concatenation is done here\n",
    "\n",
    "print(int(x) + int(y)) # strings are converted to integers and addition is performed here"
   ]
  },
  {
   "cell_type": "code",
   "execution_count": null,
   "id": "a8b3200f",
   "metadata": {},
   "outputs": [],
   "source": []
  }
 ],
 "metadata": {
  "kernelspec": {
   "display_name": "Python 3 (ipykernel)",
   "language": "python",
   "name": "python3"
  },
  "language_info": {
   "codemirror_mode": {
    "name": "ipython",
    "version": 3
   },
   "file_extension": ".py",
   "mimetype": "text/x-python",
   "name": "python",
   "nbconvert_exporter": "python",
   "pygments_lexer": "ipython3",
   "version": "3.9.13"
  }
 },
 "nbformat": 4,
 "nbformat_minor": 5
}
